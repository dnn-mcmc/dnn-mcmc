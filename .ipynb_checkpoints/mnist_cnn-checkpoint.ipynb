{
 "cells": [
  {
   "cell_type": "code",
   "execution_count": 1,
   "metadata": {},
   "outputs": [],
   "source": [
    "import tensorflow as tf\n",
    "import tensorflow_probability as tfp\n",
    "import numpy as np\n",
    "import random\n",
    "import time\n",
    "from tensorflow import keras\n",
    "from tensorflow.keras import layers\n",
    "from tensorflow.keras import initializers\n",
    "from tensorflow.keras import Model\n",
    "from tensorflow.keras.layers import Flatten, Dense\n",
    "from sklearn.metrics import accuracy_score"
   ]
  },
  {
   "cell_type": "code",
   "execution_count": 18,
   "metadata": {},
   "outputs": [
    {
     "name": "stdout",
     "output_type": "stream",
     "text": [
      "There are 12665 training images.\n",
      "There are 2115 test images.\n"
     ]
    }
   ],
   "source": [
    "# Load MNIST\n",
    "(x_train, y_train), (x_test, y_test) = tf.keras.datasets.mnist.load_data()\n",
    "\n",
    "# Select binary data\n",
    "label_sub = [0,1]\n",
    "x_train_sub = np.array([x for x, y in zip(x_train, y_train) if y in label_sub])\n",
    "y_train_sub = np.array([y for y in y_train if y in label_sub])\n",
    "x_test_sub = np.array([x for x, y in zip(x_test, y_test) if y in label_sub])\n",
    "y_test_sub = np.array([y for y in y_test if y in label_sub])\n",
    "\n",
    "print('There are', len(x_train_sub), 'training images.')\n",
    "print('There are', len(x_test_sub), 'test images.')"
   ]
  },
  {
   "cell_type": "code",
   "execution_count": 21,
   "metadata": {},
   "outputs": [
    {
     "name": "stdout",
     "output_type": "stream",
     "text": [
      "x_train_sub shape: (12665, 28, 28, 1)\n",
      "Number of images in x_train_sub 12665\n",
      "Number of images in x_test_sub 2115\n"
     ]
    }
   ],
   "source": [
    "# Reshaping the array to 4-dims so that it can work with the Keras API\n",
    "x_train_sub = x_train_sub.reshape(x_train_sub.shape[0], 28, 28, 1)\n",
    "x_test_sub = x_test_sub.reshape(x_test_sub.shape[0], 28, 28, 1)\n",
    "input_shape = (28, 28, 1)\n",
    "\n",
    "# Making sure that the values are float so that we can get decimal points after division\n",
    "x_train_sub = x_train_sub.astype('float32')\n",
    "x_test_sub = x_test_sub.astype('float32')\n",
    "\n",
    "# Normalizing the RGB codes by dividing it to the max RGB value.\n",
    "x_train_sub /= 255\n",
    "x_test_sub /= 255\n",
    "print('x_train_sub shape:', x_train_sub.shape)\n",
    "print('Number of images in x_train_sub', x_train_sub.shape[0])\n",
    "print('Number of images in x_test_sub', x_test_sub.shape[0])"
   ]
  },
  {
   "cell_type": "code",
   "execution_count": 23,
   "metadata": {},
   "outputs": [],
   "source": [
    "# Importing the required Keras modules containing model and layers\n",
    "from tensorflow.keras.models import Sequential\n",
    "from tensorflow.keras.layers import Dense, Conv2D, Dropout, Flatten, MaxPooling2D\n",
    "\n",
    "# Creating a Sequential Model and adding the layers\n",
    "model = Sequential()\n",
    "model.add(Conv2D(28, kernel_size=(3,3), input_shape=input_shape))\n",
    "model.add(MaxPooling2D(pool_size=(2, 2)))\n",
    "model.add(Flatten()) # Flattening the 2D arrays for fully connected layers\n",
    "model.add(Dense(128, activation=tf.nn.relu))\n",
    "model.add(Dropout(0.2))\n",
    "model.add(Dense(10,activation=tf.nn.softmax))"
   ]
  },
  {
   "cell_type": "code",
   "execution_count": 25,
   "metadata": {},
   "outputs": [
    {
     "name": "stdout",
     "output_type": "stream",
     "text": [
      "Epoch 1/10\n",
      "396/396 [==============================] - 3s 6ms/step - loss: 0.1079 - accuracy: 0.9760\n",
      "Epoch 2/10\n",
      "396/396 [==============================] - 2s 6ms/step - loss: 0.0048 - accuracy: 0.9988\n",
      "Epoch 3/10\n",
      "396/396 [==============================] - 2s 6ms/step - loss: 0.0056 - accuracy: 0.9988\n",
      "Epoch 4/10\n",
      "396/396 [==============================] - 2s 6ms/step - loss: 0.0026 - accuracy: 0.9989\n",
      "Epoch 5/10\n",
      "396/396 [==============================] - 2s 6ms/step - loss: 0.0020 - accuracy: 0.9991\n",
      "Epoch 6/10\n",
      "396/396 [==============================] - 2s 6ms/step - loss: 8.6718e-04 - accuracy: 0.9997\n",
      "Epoch 7/10\n",
      "396/396 [==============================] - 2s 6ms/step - loss: 7.6922e-04 - accuracy: 0.9998\n",
      "Epoch 8/10\n",
      "396/396 [==============================] - 2s 6ms/step - loss: 9.3743e-05 - accuracy: 1.0000\n",
      "Epoch 9/10\n",
      "396/396 [==============================] - 2s 6ms/step - loss: 4.9922e-04 - accuracy: 0.9998\n",
      "Epoch 10/10\n",
      "396/396 [==============================] - 2s 6ms/step - loss: 5.9501e-04 - accuracy: 0.9997\n"
     ]
    },
    {
     "data": {
      "text/plain": [
       "<tensorflow.python.keras.callbacks.History at 0x7f86e5ac8438>"
      ]
     },
     "execution_count": 25,
     "metadata": {},
     "output_type": "execute_result"
    }
   ],
   "source": [
    "model.compile(optimizer='adam', \n",
    "              loss='sparse_categorical_crossentropy', \n",
    "              metrics=['accuracy'])\n",
    "model.fit(x=x_train_sub,y=y_train_sub, epochs=10)"
   ]
  },
  {
   "cell_type": "code",
   "execution_count": 27,
   "metadata": {},
   "outputs": [
    {
     "name": "stdout",
     "output_type": "stream",
     "text": [
      "67/67 [==============================] - 0s 2ms/step - loss: 0.0037 - accuracy: 0.9991\n"
     ]
    },
    {
     "data": {
      "text/plain": [
       "[0.003735023783519864, 0.9990543723106384]"
      ]
     },
     "execution_count": 27,
     "metadata": {},
     "output_type": "execute_result"
    }
   ],
   "source": [
    "model.evaluate(x_test_sub, y_test_sub)"
   ]
  }
 ],
 "metadata": {
  "kernelspec": {
   "display_name": "Python 3",
   "language": "python",
   "name": "python3"
  },
  "language_info": {
   "codemirror_mode": {
    "name": "ipython",
    "version": 3
   },
   "file_extension": ".py",
   "mimetype": "text/x-python",
   "name": "python",
   "nbconvert_exporter": "python",
   "pygments_lexer": "ipython3",
   "version": "3.6.10"
  }
 },
 "nbformat": 4,
 "nbformat_minor": 4
}
