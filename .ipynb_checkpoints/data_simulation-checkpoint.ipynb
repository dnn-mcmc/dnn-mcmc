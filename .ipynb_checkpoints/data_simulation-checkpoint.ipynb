{
 "cells": [
  {
   "cell_type": "code",
   "execution_count": 8,
   "metadata": {},
   "outputs": [
    {
     "name": "stdout",
     "output_type": "stream",
     "text": [
      "WARNING:tensorflow:From /Users/hmy/anaconda3/envs/deeplearning/lib/python3.6/site-packages/tensorflow/python/compat/v2_compat.py:96: disable_resource_variables (from tensorflow.python.ops.variable_scope) is deprecated and will be removed in a future version.\n",
      "Instructions for updating:\n",
      "non-resource variables are not supported in the long term\n"
     ]
    }
   ],
   "source": [
    "import tensorflow as tf\n",
    "import numpy as np\n",
    "import tensorflow_probability as tfp\n",
    "import tensorflow.compat.v1 as tf\n",
    "tf.disable_v2_behavior() "
   ]
  },
  {
   "cell_type": "code",
   "execution_count": 25,
   "metadata": {},
   "outputs": [],
   "source": [
    "X = np.array([[0,0],[0,1],[1,0],[1,1]])\n",
    "Y = np.array([[0],[1],[1],[0]])"
   ]
  },
  {
   "cell_type": "code",
   "execution_count": 26,
   "metadata": {},
   "outputs": [
    {
     "data": {
      "text/plain": [
       "array([[0, 0],\n",
       "       [0, 1],\n",
       "       [1, 0],\n",
       "       [1, 1]])"
      ]
     },
     "execution_count": 26,
     "metadata": {},
     "output_type": "execute_result"
    }
   ],
   "source": [
    "X"
   ]
  },
  {
   "cell_type": "code",
   "execution_count": 9,
   "metadata": {},
   "outputs": [],
   "source": [
    "# Placeholders for input and output\n",
    "\n",
    "x = tf.placeholder(tf.float32, shape=[4,2])\n",
    "y = tf.placeholder(tf.float32, shape=[4,1])"
   ]
  },
  {
   "cell_type": "code",
   "execution_count": 10,
   "metadata": {},
   "outputs": [],
   "source": [
    "# W matrix\n",
    "W1 = tf.Variable([[.01, -.01], [-.01, .01]], shape=[2,2])\n",
    "W2 = tf.Variable([[-.01], [.01]], shape=[2,1])\n",
    " \n",
    "# Biases\n",
    "B1 = tf.Variable([0.0, 0.0], shape=[2])\n",
    "B2 = tf.Variable([0.0], shape=1)"
   ]
  },
  {
   "cell_type": "code",
   "execution_count": 29,
   "metadata": {},
   "outputs": [],
   "source": [
    "from tensorflow.keras.layers import Flatten, Dense\n",
    "from tensorflow.keras.models import Sequential, Model\n",
    "\n",
    "model = Sequential()\n",
    "model.add(Dense(2, input_dim=2, activation='relu'))\n",
    "model.add(Dense(1, activation='sigmoid'))"
   ]
  },
  {
   "cell_type": "code",
   "execution_count": 30,
   "metadata": {},
   "outputs": [
    {
     "name": "stdout",
     "output_type": "stream",
     "text": [
      "Model: \"sequential_2\"\n",
      "_________________________________________________________________\n",
      "Layer (type)                 Output Shape              Param #   \n",
      "=================================================================\n",
      "dense_6 (Dense)              (None, 2)                 6         \n",
      "_________________________________________________________________\n",
      "dense_7 (Dense)              (None, 1)                 3         \n",
      "=================================================================\n",
      "Total params: 9\n",
      "Trainable params: 9\n",
      "Non-trainable params: 0\n",
      "_________________________________________________________________\n"
     ]
    }
   ],
   "source": [
    "model.compile(loss='mean_squared_error',\n",
    "              optimizer='adam',\n",
    "              metrics=['binary_accuracy'])\n",
    "model.summary()"
   ]
  },
  {
   "cell_type": "code",
   "execution_count": 32,
   "metadata": {},
   "outputs": [
    {
     "name": "stdout",
     "output_type": "stream",
     "text": [
      "Train on 4 samples\n",
      "Epoch 1/50\n",
      "4/4 [==============================] - 0s 12ms/sample - loss: 0.2498 - binary_accuracy: 0.7500\n",
      "Epoch 2/50\n",
      "4/4 [==============================] - 0s 445us/sample - loss: 0.2496 - binary_accuracy: 0.7500\n",
      "Epoch 3/50\n",
      "4/4 [==============================] - 0s 565us/sample - loss: 0.2493 - binary_accuracy: 0.7500\n",
      "Epoch 4/50\n",
      "4/4 [==============================] - 0s 473us/sample - loss: 0.2490 - binary_accuracy: 0.7500\n",
      "Epoch 5/50\n",
      "4/4 [==============================] - 0s 517us/sample - loss: 0.2487 - binary_accuracy: 0.7500\n",
      "Epoch 6/50\n",
      "4/4 [==============================] - 0s 430us/sample - loss: 0.2483 - binary_accuracy: 0.7500\n",
      "Epoch 7/50\n",
      "4/4 [==============================] - 0s 445us/sample - loss: 0.2479 - binary_accuracy: 0.7500\n",
      "Epoch 8/50\n",
      "4/4 [==============================] - 0s 603us/sample - loss: 0.2475 - binary_accuracy: 0.7500\n",
      "Epoch 9/50\n",
      "4/4 [==============================] - 0s 452us/sample - loss: 0.2471 - binary_accuracy: 0.7500\n",
      "Epoch 10/50\n",
      "4/4 [==============================] - 0s 450us/sample - loss: 0.2467 - binary_accuracy: 0.7500\n",
      "Epoch 11/50\n",
      "4/4 [==============================] - 0s 471us/sample - loss: 0.2463 - binary_accuracy: 0.7500\n",
      "Epoch 12/50\n",
      "4/4 [==============================] - 0s 2ms/sample - loss: 0.2458 - binary_accuracy: 0.7500\n",
      "Epoch 13/50\n",
      "4/4 [==============================] - 0s 734us/sample - loss: 0.2454 - binary_accuracy: 0.7500\n",
      "Epoch 14/50\n",
      "4/4 [==============================] - 0s 942us/sample - loss: 0.2450 - binary_accuracy: 0.7500\n",
      "Epoch 15/50\n",
      "4/4 [==============================] - 0s 701us/sample - loss: 0.2445 - binary_accuracy: 0.7500\n",
      "Epoch 16/50\n",
      "4/4 [==============================] - 0s 858us/sample - loss: 0.2441 - binary_accuracy: 0.7500\n",
      "Epoch 17/50\n",
      "4/4 [==============================] - 0s 1ms/sample - loss: 0.2437 - binary_accuracy: 0.7500\n",
      "Epoch 18/50\n",
      "4/4 [==============================] - 0s 1ms/sample - loss: 0.2432 - binary_accuracy: 0.7500\n",
      "Epoch 19/50\n",
      "4/4 [==============================] - 0s 1ms/sample - loss: 0.2428 - binary_accuracy: 1.0000\n",
      "Epoch 20/50\n",
      "4/4 [==============================] - 0s 956us/sample - loss: 0.2424 - binary_accuracy: 1.0000\n",
      "Epoch 21/50\n",
      "4/4 [==============================] - 0s 904us/sample - loss: 0.2420 - binary_accuracy: 1.0000\n",
      "Epoch 22/50\n",
      "4/4 [==============================] - 0s 1ms/sample - loss: 0.2415 - binary_accuracy: 1.0000\n",
      "Epoch 23/50\n",
      "4/4 [==============================] - 0s 749us/sample - loss: 0.2411 - binary_accuracy: 1.0000\n",
      "Epoch 24/50\n",
      "4/4 [==============================] - 0s 2ms/sample - loss: 0.2407 - binary_accuracy: 1.0000\n",
      "Epoch 25/50\n",
      "4/4 [==============================] - 0s 436us/sample - loss: 0.2403 - binary_accuracy: 1.0000\n",
      "Epoch 26/50\n",
      "4/4 [==============================] - 0s 476us/sample - loss: 0.2399 - binary_accuracy: 1.0000\n",
      "Epoch 27/50\n",
      "4/4 [==============================] - 0s 580us/sample - loss: 0.2395 - binary_accuracy: 1.0000\n",
      "Epoch 28/50\n",
      "4/4 [==============================] - 0s 549us/sample - loss: 0.2390 - binary_accuracy: 1.0000\n",
      "Epoch 29/50\n",
      "4/4 [==============================] - 0s 693us/sample - loss: 0.2386 - binary_accuracy: 1.0000\n",
      "Epoch 30/50\n",
      "4/4 [==============================] - 0s 556us/sample - loss: 0.2382 - binary_accuracy: 1.0000\n",
      "Epoch 31/50\n",
      "4/4 [==============================] - 0s 629us/sample - loss: 0.2378 - binary_accuracy: 1.0000\n",
      "Epoch 32/50\n",
      "4/4 [==============================] - 0s 557us/sample - loss: 0.2374 - binary_accuracy: 1.0000\n",
      "Epoch 33/50\n",
      "4/4 [==============================] - 0s 492us/sample - loss: 0.2371 - binary_accuracy: 1.0000\n",
      "Epoch 34/50\n",
      "4/4 [==============================] - 0s 867us/sample - loss: 0.2367 - binary_accuracy: 1.0000\n",
      "Epoch 35/50\n",
      "4/4 [==============================] - 0s 445us/sample - loss: 0.2363 - binary_accuracy: 1.0000\n",
      "Epoch 36/50\n",
      "4/4 [==============================] - 0s 430us/sample - loss: 0.2359 - binary_accuracy: 1.0000\n",
      "Epoch 37/50\n",
      "4/4 [==============================] - 0s 348us/sample - loss: 0.2355 - binary_accuracy: 1.0000\n",
      "Epoch 38/50\n",
      "4/4 [==============================] - 0s 443us/sample - loss: 0.2351 - binary_accuracy: 1.0000\n",
      "Epoch 39/50\n",
      "4/4 [==============================] - 0s 737us/sample - loss: 0.2348 - binary_accuracy: 1.0000\n",
      "Epoch 40/50\n",
      "4/4 [==============================] - 0s 452us/sample - loss: 0.2344 - binary_accuracy: 1.0000\n",
      "Epoch 41/50\n",
      "4/4 [==============================] - 0s 511us/sample - loss: 0.2340 - binary_accuracy: 1.0000\n",
      "Epoch 42/50\n",
      "4/4 [==============================] - 0s 459us/sample - loss: 0.2336 - binary_accuracy: 1.0000\n",
      "Epoch 43/50\n",
      "4/4 [==============================] - 0s 422us/sample - loss: 0.2333 - binary_accuracy: 1.0000\n",
      "Epoch 44/50\n",
      "4/4 [==============================] - 0s 793us/sample - loss: 0.2329 - binary_accuracy: 1.0000\n",
      "Epoch 45/50\n",
      "4/4 [==============================] - 0s 706us/sample - loss: 0.2325 - binary_accuracy: 1.0000\n",
      "Epoch 46/50\n",
      "4/4 [==============================] - 0s 873us/sample - loss: 0.2322 - binary_accuracy: 1.0000\n",
      "Epoch 47/50\n",
      "4/4 [==============================] - 0s 979us/sample - loss: 0.2318 - binary_accuracy: 1.0000\n",
      "Epoch 48/50\n",
      "4/4 [==============================] - 0s 808us/sample - loss: 0.2315 - binary_accuracy: 1.0000\n",
      "Epoch 49/50\n",
      "4/4 [==============================] - 0s 1ms/sample - loss: 0.2311 - binary_accuracy: 1.0000\n",
      "Epoch 50/50\n",
      "4/4 [==============================] - 0s 677us/sample - loss: 0.2308 - binary_accuracy: 1.0000\n"
     ]
    },
    {
     "data": {
      "text/plain": [
       "<tensorflow.python.keras.callbacks.History at 0x7fdb2c1378d0>"
      ]
     },
     "execution_count": 32,
     "metadata": {},
     "output_type": "execute_result"
    }
   ],
   "source": [
    "model.fit(X, epochs=50)"
   ]
  },
  {
   "cell_type": "code",
   "execution_count": null,
   "metadata": {},
   "outputs": [],
   "source": []
  }
 ],
 "metadata": {
  "kernelspec": {
   "display_name": "Python 3",
   "language": "python",
   "name": "python3"
  },
  "language_info": {
   "codemirror_mode": {
    "name": "ipython",
    "version": 3
   },
   "file_extension": ".py",
   "mimetype": "text/x-python",
   "name": "python",
   "nbconvert_exporter": "python",
   "pygments_lexer": "ipython3",
   "version": "3.6.10"
  }
 },
 "nbformat": 4,
 "nbformat_minor": 4
}
