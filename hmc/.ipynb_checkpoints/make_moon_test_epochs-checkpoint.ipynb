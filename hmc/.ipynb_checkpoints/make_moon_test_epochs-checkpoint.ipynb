{
 "cells": [
  {
   "cell_type": "code",
   "execution_count": 1,
   "metadata": {},
   "outputs": [],
   "source": [
    "import tensorflow as tf\n",
    "import tensorflow_probability as tfp\n",
    "import tensorflow.math as tm\n",
    "import numpy as np\n",
    "import random\n",
    "import time\n",
    "import matplotlib.pyplot as plt\n",
    "\n",
    "from tensorflow import keras\n",
    "from tensorflow.keras import layers\n",
    "from tensorflow.keras import initializers\n",
    "from tensorflow.keras import Model\n",
    "from tensorflow.keras import models\n",
    "from tensorflow.keras.layers import Dense, Conv2D, Dropout, Flatten, MaxPooling2D\n",
    "from tensorflow.keras.models import Sequential\n",
    "from sklearn.metrics import accuracy_score\n",
    "from sklearn.datasets import make_moons\n",
    "from sklearn.model_selection import train_test_split\n",
    "\n",
    "from sklearn.model_selection import KFold"
   ]
  },
  {
   "cell_type": "markdown",
   "metadata": {},
   "source": [
    "## 10-fold Cross validation to test how many epoches should be used"
   ]
  },
  {
   "cell_type": "markdown",
   "metadata": {},
   "source": [
    "- 500 samples\n",
    "- 80% training, 20% testing"
   ]
  },
  {
   "cell_type": "code",
   "execution_count": 2,
   "metadata": {},
   "outputs": [],
   "source": [
    "np.random.seed(1234)\n",
    "X, Y = make_moons(500, noise = 0.1)\n",
    "\n",
    "# Split into test and training data\n",
    "x_train, x_test, y_train, y_test = train_test_split(X, Y, test_size=0.20, random_state=73)\n",
    "y_train = np.reshape(y_train, (y_train.shape[0], 1))\n",
    "y_test = np.reshape(y_test, (y_test.shape[0], 1))\n",
    "\n",
    "train_ds = tf.data.Dataset.from_tensor_slices((x_train, y_train)).batch(32)\n",
    "test_ds = tf.data.Dataset.from_tensor_slices((x_test, y_test)).batch(32)"
   ]
  },
  {
   "cell_type": "code",
   "execution_count": 3,
   "metadata": {},
   "outputs": [
    {
     "data": {
      "image/png": "[encoded data removed]",
      "text/plain": [
       "<Figure size 432x288 with 1 Axes>"
      ]
     },
     "metadata": {
      "needs_background": "light"
     },
     "output_type": "display_data"
    }
   ],
   "source": [
    "plt.scatter(*x_train[y_train.flatten() == 1, :].T)\n",
    "plt.scatter(*x_train[y_train.flatten() == 0, :].T)\n",
    "plt.show()"
   ]
  },
  {
   "cell_type": "code",
   "execution_count": 33,
   "metadata": {},
   "outputs": [
    {
     "data": {
      "text/plain": [
       "(numpy.ndarray, (400, 1))"
      ]
     },
     "execution_count": 33,
     "metadata": {},
     "output_type": "execute_result"
    }
   ],
   "source": [
    "type(x_train), np.shape(y_train)"
   ]
  },
  {
   "cell_type": "code",
   "execution_count": null,
   "metadata": {},
   "outputs": [],
   "source": [
    "# Standard BP\n",
    "model_bp = keras.Sequential(\n",
    "    [\n",
    "        keras.Input(shape=(2,)),\n",
    "        layers.Dense(100, activation = \"sigmoid\"),\n",
    "        #layers.Dense(50, activation = \"sigmoid\"),\n",
    "        layers.Dense(1, activation = \"sigmoid\")\n",
    "    ]\n",
    ")\n",
    "model_bp.summary()\n",
    "#model_bp.get_weights()"
   ]
  },
  {
   "cell_type": "code",
   "execution_count": null,
   "metadata": {},
   "outputs": [],
   "source": [
    "import time\n",
    "batch_size = 32\n",
    "epochs = 1000\n",
    "opt = tf.keras.optimizers.SGD(learning_rate=0.1)\n",
    "\n",
    "st = time.time()\n",
    "model_bp.compile(loss=\"binary_crossentropy\", optimizer=opt, metrics=[\"accuracy\"])\n",
    "model_bp.fit(x_train, y_train, batch_size=batch_size, epochs=epochs)\n",
    "print(time.time() - st)"
   ]
  },
  {
   "cell_type": "code",
   "execution_count": 5,
   "metadata": {},
   "outputs": [],
   "source": [
    "def convert2_zero_one(x):\n",
    "    \n",
    "    t = [tm.sigmoid(i) for i in x]\n",
    "    \n",
    "    return t"
   ]
  },
  {
   "cell_type": "code",
   "execution_count": 6,
   "metadata": {},
   "outputs": [],
   "source": [
    "def rerange(x, r = 6.0):\n",
    "    \n",
    "    out_of_range = tf.cast(tm.greater(tm.abs(x), r), tf.float32)\n",
    "    sign = tm.sign(x)\n",
    "    \n",
    "    return x * (1 - out_of_range) + sign * r * out_of_range"
   ]
  },
  {
   "cell_type": "code",
   "execution_count": 7,
   "metadata": {},
   "outputs": [],
   "source": [
    "def cont_bern_log_norm(lam, l_lim=0.49, u_lim=0.51):\n",
    "    '''\n",
    "    computes the log normalizing constant of a continuous Bernoulli distribution in a numerically stable way.\n",
    "    returns the log normalizing constant for lam in (0, l_lim) U (u_lim, 1) and a Taylor approximation in\n",
    "    [l_lim, u_lim].\n",
    "    cut_y below might appear useless, but it is important to not evaluate log_norm near 0.5 as tf.where evaluates\n",
    "    both options, regardless of the value of the condition.\n",
    "    '''\n",
    "    \n",
    "    cut_lam = tf.where(tm.logical_or(tm.less(lam, l_lim), tm.greater(lam, u_lim)), lam, l_lim * tf.ones_like(lam))\n",
    "    log_norm = tm.log(tm.abs(2.0 * tm.atanh(1 - 2.0 * cut_lam))) - tm.log(tm.abs(1 - 2.0 * cut_lam))\n",
    "    taylor = tm.log(2.0) + 4.0 / 3.0 * tm.pow(lam - 0.5, 2) + 104.0 / 45.0 * tm.pow(lam - 0.5, 4)\n",
    "    return tf.where(tm.logical_or(tm.less(lam, l_lim), tm.greater(lam, u_lim)), log_norm, taylor)\n"
   ]
  },
  {
   "cell_type": "code",
   "execution_count": 8,
   "metadata": {},
   "outputs": [],
   "source": [
    "# MLP model\n",
    "class StochasticMLP(Model):\n",
    "    \n",
    "    def __init__(self, hidden_layer_sizes=[100], n_outputs=10):\n",
    "        super(StochasticMLP, self).__init__()\n",
    "        self.hidden_layer_sizes = hidden_layer_sizes\n",
    "        self.fc_layers = [Dense(layer_size) for layer_size in hidden_layer_sizes]\n",
    "        self.output_layer = Dense(n_outputs)\n",
    "    \n",
    "    def call(self, x):\n",
    "        \n",
    "        #x = Flatten()(x)\n",
    "        \n",
    "        network = []\n",
    "        \n",
    "        for i, layer in enumerate(self.fc_layers):\n",
    "            \n",
    "            logits = layer(x)\n",
    "            x = tfp.distributions.Bernoulli(logits=logits).sample()\n",
    "            network.append(x)\n",
    "\n",
    "        final_logits = self.output_layer(x) # initial the weight of output layer\n",
    "            \n",
    "        return network\n",
    "    \n",
    "    def target_log_prob(self, x, h, y):\n",
    "        \n",
    "        h_current = convert2_zero_one([tf.cast(h_i, dtype=tf.float32) for h_i in h])\n",
    "        h_previous = [x] + h_current[:-1]\n",
    "    \n",
    "        nlog_prob = 0. # negative log probability\n",
    "        \n",
    "        for i, (cv, pv, layer) in enumerate(\n",
    "            zip(h_current, h_previous, self.fc_layers)):\n",
    "            \n",
    "            logits = layer(pv)\n",
    "            \n",
    "            ce = tf.nn.sigmoid_cross_entropy_with_logits(\n",
    "                labels=cv, logits=logits)\n",
    "            \n",
    "            ce += cont_bern_log_norm(tf.nn.sigmoid(logits))\n",
    "            \n",
    "            nlog_prob += tf.reduce_sum(ce, axis = -1)\n",
    "        \n",
    "        fce = tf.nn.sigmoid_cross_entropy_with_logits(\n",
    "            labels=tf.cast(y, tf.float32), logits=self.output_layer(h_current[-1]))\n",
    "        nlog_prob += tf.reduce_sum(fce, axis = -1)\n",
    "            \n",
    "        return -1 * nlog_prob\n",
    "\n",
    "    def target_log_prob2(self, x, h, y):\n",
    "\n",
    "        h_current = convert2_zero_one(tf.split(h, self.hidden_layer_sizes, axis = 1))\n",
    "        h_previous = [x] + h_current[:-1]\n",
    "        \n",
    "        nlog_prob = 0.\n",
    "        \n",
    "        for i, (cv, pv, layer) in enumerate(\n",
    "            zip(h_current, h_previous, self.fc_layers)):\n",
    "            \n",
    "            logits = layer(pv)\n",
    "            ce = tf.nn.sigmoid_cross_entropy_with_logits(\n",
    "                labels=cv, logits=logits)\n",
    "            \n",
    "            ce += cont_bern_log_norm(tf.nn.sigmoid(logits))\n",
    "            \n",
    "            nlog_prob += tf.reduce_sum(ce, axis = -1)\n",
    "        \n",
    "        fce = tf.nn.sigmoid_cross_entropy_with_logits(\n",
    "            labels=tf.cast(y, tf.float32), logits=self.output_layer(h_current[-1]))\n",
    "        nlog_prob += tf.reduce_sum(fce, axis = -1)\n",
    "            \n",
    "        return -1 * nlog_prob\n",
    "    \n",
    "    def generate_hmc_kernel(self, x, y, step_size = pow(1000, -1/4)):\n",
    "        \n",
    "        adaptive_hmc = tfp.mcmc.SimpleStepSizeAdaptation(tfp.mcmc.HamiltonianMonteCarlo(\n",
    "            target_log_prob_fn = lambda v: self.target_log_prob2(x, v, y),\n",
    "            num_leapfrog_steps = 2,\n",
    "            step_size = step_size),\n",
    "            num_adaptation_steps=int(100 * 0.8))\n",
    "        \n",
    "        return adaptive_hmc\n",
    "    \n",
    "    # new proposing-state method with HamiltonianMonteCarlo\n",
    "    def propose_new_state_hamiltonian(self, x, h, y, hmc_kernel, is_update_kernel = True):\n",
    "    \n",
    "        h_current = h\n",
    "        h_current = [tf.cast(h_i, dtype=tf.float32) for h_i in h_current]\n",
    "        h_current = tf.concat(h_current, axis = 1)\n",
    "\n",
    "        # run the chain (with burn-in)\n",
    "        num_burnin_steps = 0\n",
    "        num_results = 1\n",
    "\n",
    "        samples = tfp.mcmc.sample_chain(\n",
    "            num_results = num_results,\n",
    "            num_burnin_steps = num_burnin_steps,\n",
    "            current_state = h_current, # may need to be reshaped\n",
    "            kernel = hmc_kernel,\n",
    "            trace_fn = None,\n",
    "            return_final_kernel_results = True)\n",
    "    \n",
    "        # Generate new states of chains\n",
    "        #h_state = rerange(samples[0][0])\n",
    "        h_state = samples[0][0]\n",
    "        h_new = tf.split(h_state, self.hidden_layer_sizes, axis = 1) \n",
    "        \n",
    "        # Update the kernel if necesssary\n",
    "        if is_update_kernel:\n",
    "            new_step_size = samples[2].new_step_size.numpy()\n",
    "            ker_new = self.generate_hmc_kernel(x, y, new_step_size)\n",
    "            return(h_new, ker_new)\n",
    "        else:\n",
    "            return h_new\n",
    "    \n",
    "    def update_weights(self, x, h, y, lr = 0.1):\n",
    "        \n",
    "        optimizer = tf.keras.optimizers.SGD(learning_rate = lr)\n",
    "        with tf.GradientTape() as tape:\n",
    "            loss = -1 * tf.reduce_mean(self.target_log_prob(x, h, y))\n",
    "        \n",
    "        grads = tape.gradient(loss, self.trainable_weights)\n",
    "        optimizer.apply_gradients(zip(grads, self.trainable_weights))\n",
    "\n",
    "    def get_predictions(self, x):\n",
    "\n",
    "        logits = 0.0\n",
    "        for layer in self.fc_layers:\n",
    "            logits = layer(x)\n",
    "            x = tm.sigmoid(logits)\n",
    "        \n",
    "        logits = self.output_layer(x)\n",
    "        probs = tm.sigmoid(logits)\n",
    "        #print(probs)\n",
    "        labels = tf.cast(tm.greater(probs, 0.5), tf.int32)\n",
    "\n",
    "        return labels"
   ]
  },
  {
   "cell_type": "code",
   "execution_count": 9,
   "metadata": {},
   "outputs": [],
   "source": [
    "model = StochasticMLP(hidden_layer_sizes = [100], n_outputs=1)"
   ]
  },
  {
   "cell_type": "code",
   "execution_count": 62,
   "metadata": {},
   "outputs": [],
   "source": [
    "network = [model.call(x) for x, y in train_ds]"
   ]
  },
  {
   "cell_type": "code",
   "execution_count": 63,
   "metadata": {},
   "outputs": [],
   "source": [
    "kernels = [model.generate_hmc_kernel(x, y) for x, y in train_ds]"
   ]
  },
  {
   "cell_type": "code",
   "execution_count": 12,
   "metadata": {},
   "outputs": [
    {
     "name": "stdout",
     "output_type": "stream",
     "text": [
      "Step 0\n",
      "Step 100\n",
      "Step 200\n",
      "Step 300\n",
      "Step 400\n",
      "CPU times: user 2min 25s, sys: 1.19 s, total: 2min 27s\n",
      "Wall time: 2min 26s\n"
     ]
    }
   ],
   "source": [
    "%%time\n",
    "\n",
    "burnin = 500\n",
    "for i in range(burnin):\n",
    "    \n",
    "    if(i % 100 == 0): print(\"Step %d\" % i)\n",
    "        \n",
    "    network_new = []\n",
    "    kernels_new = []\n",
    "    \n",
    "    res = [model.propose_new_state_hamiltonian(x, net, y, ker) \n",
    "               for (x, y), net, ker in zip(train_ds, network, kernels)]\n",
    "    \n",
    "    network_new, kernels_new = zip(*res)\n",
    "         \n",
    "    network = network_new\n",
    "    kernels = kernels_new"
   ]
  },
  {
   "cell_type": "code",
   "execution_count": 13,
   "metadata": {},
   "outputs": [
    {
     "name": "stdout",
     "output_type": "stream",
     "text": [
      "[<tf.Tensor: shape=(32, 100), dtype=float32, numpy=\n",
      "array([[ 172.89584 , -141.86325 ,   65.18642 , ..., -810.84607 ,\n",
      "        -260.40567 , -542.12415 ],\n",
      "       [ -91.63042 , -660.32935 , -265.25995 , ..., -833.1581  ,\n",
      "          19.428883,  841.94714 ],\n",
      "       [-371.50653 ,  622.4346  ,  260.42453 , ...,  405.247   ,\n",
      "         518.97766 , -153.53447 ],\n",
      "       ...,\n",
      "       [-250.7655  ,   26.797235, -372.58948 , ..., -169.38257 ,\n",
      "        -221.30116 , -450.0783  ],\n",
      "       [ 536.91736 ,  838.1107  , -145.07501 , ..., -412.06708 ,\n",
      "        -134.65201 ,  307.05557 ],\n",
      "       [-256.4781  , -125.971436, -137.53365 , ..., -187.97388 ,\n",
      "          42.19231 , -296.67377 ]], dtype=float32)>]\n"
     ]
    }
   ],
   "source": [
    "print(network[0])"
   ]
  },
  {
   "cell_type": "code",
   "execution_count": 49,
   "metadata": {},
   "outputs": [
    {
     "data": {
      "text/plain": [
       "(400, 1)"
      ]
     },
     "execution_count": 49,
     "metadata": {},
     "output_type": "execute_result"
    }
   ],
   "source": [
    "np.shape(y_train)"
   ]
  },
  {
   "cell_type": "code",
   "execution_count": 83,
   "metadata": {},
   "outputs": [],
   "source": [
    "def new_network_kernel(x_train, y_train):\n",
    "    \n",
    "    train_ds = tf.data.Dataset.from_tensor_slices((x_train, y_train)).batch(32)\n",
    "    network = [model.call(x) for x, y in train_ds]\n",
    "    kernels = [model.generate_hmc_kernel(x, y) for x, y in train_ds]\n",
    "    \n",
    "    return train_ds, network, kernels"
   ]
  },
  {
   "cell_type": "code",
   "execution_count": 105,
   "metadata": {},
   "outputs": [],
   "source": [
    "def cross_validation(epochs, split_size, x_train=x_train, y_train=y_train):\n",
    "    \n",
    "    results = []\n",
    "    kf = KFold(n_splits=split_size)\n",
    "        \n",
    "    for i, (train_idx, val_idx) in enumerate(kf.split(x_train, y_train)):\n",
    "        print(\"Cross validation step %d:\" % (i+1))\n",
    "        \n",
    "        x_cv_train= x_train[train_idx]\n",
    "        y_cv_train = y_train[train_idx]\n",
    "        x_cv_val = x_train[val_idx]\n",
    "        y_cv_val = y_train[val_idx]\n",
    "        \n",
    "        train_ds, network, kernels = new_network_kernel(x_train=x_cv_train, y_train=y_cv_train)\n",
    "        \n",
    "        # train 'number of epochs' on the training set\n",
    "        for epoch in range(epochs): \n",
    "            \n",
    "            #loss = 0.0\n",
    "            acc = 0.0\n",
    "            if(epoch % 100 == 0): print(\"Runing No.%d epoch\" % (epoch))\n",
    "    \n",
    "            for bs, (x, y) in enumerate(train_ds):\n",
    "        \n",
    "                # only one mini-batch\n",
    "                model.update_weights(x, network[bs], y, 0.1)\n",
    "                res = [model.propose_new_state_hamiltonian(x, net, y, ker, is_update_kernel = False) \\\n",
    "                   for (x, y), net, ker in zip(train_ds, network, kernels)]\n",
    "                network = res\n",
    "                #loss += -1 * tf.reduce_mean(model.target_log_prob(x, network[bs], y))\n",
    "            \n",
    "        # calculate accurancy on the validation set\n",
    "        val_ds = tf.data.Dataset.from_tensor_slices((x_cv_val, y_cv_val)).batch(32)\n",
    "        preds = [model.get_predictions(images) for images, labels in val_ds]\n",
    "        val_acc = accuracy_score(np.concatenate(preds), y_cv_val)\n",
    "        \n",
    "        results.append(val_acc)  \n",
    "        \n",
    "    accuracy_epochs = np.mean(results)\n",
    "        \n",
    "    return accuracy_epochs"
   ]
  },
  {
   "cell_type": "code",
   "execution_count": 107,
   "metadata": {},
   "outputs": [
    {
     "name": "stdout",
     "output_type": "stream",
     "text": [
      "# of Epochs: 200\n",
      "Cross validation step 1:\n",
      "Runing No.0 epoch\n",
      "Runing No.100 epoch\n",
      "Cross validation step 2:\n",
      "Runing No.0 epoch\n",
      "Runing No.100 epoch\n",
      "Cross validation step 3:\n",
      "Runing No.0 epoch\n",
      "Runing No.100 epoch\n",
      "Cross validation step 4:\n",
      "Runing No.0 epoch\n",
      "Runing No.100 epoch\n",
      "Cross validation step 5:\n",
      "Runing No.0 epoch\n",
      "Runing No.100 epoch\n",
      "Accuracy: 0.8925\n",
      "# of Epochs: 300\n",
      "Cross validation step 1:\n",
      "Runing No.0 epoch\n",
      "Runing No.100 epoch\n",
      "Runing No.200 epoch\n",
      "Cross validation step 2:\n",
      "Runing No.0 epoch\n",
      "Runing No.100 epoch\n",
      "Runing No.200 epoch\n",
      "Cross validation step 3:\n",
      "Runing No.0 epoch\n",
      "Runing No.100 epoch\n",
      "Runing No.200 epoch\n",
      "Cross validation step 4:\n",
      "Runing No.0 epoch\n",
      "Runing No.100 epoch\n",
      "Runing No.200 epoch\n",
      "Cross validation step 5:\n",
      "Runing No.0 epoch\n",
      "Runing No.100 epoch\n",
      "Runing No.200 epoch\n",
      "Accuracy: 0.8825\n",
      "# of Epochs: 400\n",
      "Cross validation step 1:\n",
      "Runing No.0 epoch\n",
      "Runing No.100 epoch\n",
      "Runing No.200 epoch\n",
      "Runing No.300 epoch\n",
      "Cross validation step 2:\n",
      "Runing No.0 epoch\n",
      "Runing No.100 epoch\n",
      "Runing No.200 epoch\n",
      "Runing No.300 epoch\n",
      "Cross validation step 3:\n",
      "Runing No.0 epoch\n",
      "Runing No.100 epoch\n",
      "Runing No.200 epoch\n",
      "Runing No.300 epoch\n",
      "Cross validation step 4:\n",
      "Runing No.0 epoch\n",
      "Runing No.100 epoch\n",
      "Runing No.200 epoch\n",
      "Runing No.300 epoch\n",
      "Cross validation step 5:\n",
      "Runing No.0 epoch\n",
      "Runing No.100 epoch\n",
      "Runing No.200 epoch\n",
      "Runing No.300 epoch\n",
      "Accuracy: 0.8800\n",
      "# of Epochs: 500\n",
      "Cross validation step 1:\n",
      "Runing No.0 epoch\n",
      "Runing No.100 epoch\n",
      "Runing No.200 epoch\n",
      "Runing No.300 epoch\n",
      "Runing No.400 epoch\n",
      "Cross validation step 2:\n",
      "Runing No.0 epoch\n",
      "Runing No.100 epoch\n",
      "Runing No.200 epoch\n",
      "Runing No.300 epoch\n",
      "Runing No.400 epoch\n",
      "Cross validation step 3:\n",
      "Runing No.0 epoch\n",
      "Runing No.100 epoch\n",
      "Runing No.200 epoch\n",
      "Runing No.300 epoch\n",
      "Runing No.400 epoch\n",
      "Cross validation step 4:\n",
      "Runing No.0 epoch\n",
      "Runing No.100 epoch\n",
      "Runing No.200 epoch\n",
      "Runing No.300 epoch\n",
      "Runing No.400 epoch\n",
      "Cross validation step 5:\n",
      "Runing No.0 epoch\n",
      "Runing No.100 epoch\n",
      "Runing No.200 epoch\n",
      "Runing No.300 epoch\n",
      "Runing No.400 epoch\n",
      "Accuracy: 0.8875\n"
     ]
    }
   ],
   "source": [
    "epochs_list = [200, 300, 400, 500]\n",
    "\n",
    "for epochs in epochs_list:\n",
    "    print(\"# of Epochs: %d\" % (epochs))\n",
    "    \n",
    "    acc = cross_validation(epochs=epochs, split_size=5, x_train=x_train, y_train=y_train)\n",
    "    print(\"Accuracy: %.4f\" %(acc))"
   ]
  }
 ],
 "metadata": {
  "kernelspec": {
   "display_name": "Python 3",
   "language": "python",
   "name": "python3"
  },
  "language_info": {
   "codemirror_mode": {
    "name": "ipython",
    "version": 3
   },
   "file_extension": ".py",
   "mimetype": "text/x-python",
   "name": "python",
   "nbconvert_exporter": "python",
   "pygments_lexer": "ipython3",
   "version": "3.6.10"
  }
 },
 "nbformat": 4,
 "nbformat_minor": 4
}
