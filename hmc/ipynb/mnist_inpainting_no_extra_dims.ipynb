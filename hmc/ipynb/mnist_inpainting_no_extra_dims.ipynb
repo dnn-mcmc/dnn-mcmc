{
 "cells": [
  {
   "cell_type": "code",
   "execution_count": 1,
   "metadata": {},
   "outputs": [],
   "source": [
    "import tensorflow as tf\n",
    "import tensorflow_probability as tfp\n",
    "import tensorflow.math as tm\n",
    "import numpy as np\n",
    "import random\n",
    "import time\n",
    "from tensorflow import keras\n",
    "from tensorflow.keras import layers\n",
    "from tensorflow.keras import initializers\n",
    "from tensorflow.keras import Model\n",
    "from tensorflow.keras.layers import Flatten, Dense\n",
    "from sklearn.metrics import accuracy_score"
   ]
  },
  {
   "cell_type": "code",
   "execution_count": 2,
   "metadata": {},
   "outputs": [],
   "source": [
    "import matplotlib.pyplot as plt"
   ]
  },
  {
   "cell_type": "code",
   "execution_count": 3,
   "metadata": {},
   "outputs": [
    {
     "data": {
      "text/plain": [
       "('2.8.0', '0.15.0')"
      ]
     },
     "execution_count": 3,
     "metadata": {},
     "output_type": "execute_result"
    }
   ],
   "source": [
    "tf.__version__, tfp.__version__"
   ]
  },
  {
   "cell_type": "code",
   "execution_count": 4,
   "metadata": {},
   "outputs": [
    {
     "name": "stdout",
     "output_type": "stream",
     "text": [
      "There are 12665 training images.\n",
      "There are 2115 test images.\n"
     ]
    }
   ],
   "source": [
    "# Load MNIST\n",
    "(x_train, y_train), (x_test, y_test) = tf.keras.datasets.mnist.load_data()\n",
    "\n",
    "#SCALE_FACTOR = 1\n",
    "SCALE_FACTOR = 255\n",
    "\n",
    "# Select binary data\n",
    "label_sub = [0,1]\n",
    "x_train_sub = [x.reshape(-1) / SCALE_FACTOR for x, y in zip(x_train, y_train) if y in label_sub]\n",
    "y_train_sub = [y.reshape(-1) for y in y_train if y in label_sub]\n",
    "x_test_sub = [x.reshape(-1) / SCALE_FACTOR for x, y in zip(x_test, y_test) if y in label_sub]\n",
    "y_test_sub = [y.reshape(-1) for y in y_test if y in label_sub]\n",
    "\n",
    "\n",
    "print('There are', len(x_train_sub), 'training images.')\n",
    "print('There are', len(x_test_sub), 'test images.')"
   ]
  },
  {
   "cell_type": "code",
   "execution_count": 5,
   "metadata": {},
   "outputs": [
    {
     "data": {
      "text/plain": [
       "(0.0, 1.0)"
      ]
     },
     "execution_count": 5,
     "metadata": {},
     "output_type": "execute_result"
    }
   ],
   "source": [
    "x_train_sub[0].min(), x_train_sub[0].max()"
   ]
  },
  {
   "cell_type": "code",
   "execution_count": 6,
   "metadata": {},
   "outputs": [
    {
     "name": "stdout",
     "output_type": "stream",
     "text": [
      "There are 12665 training images.\n"
     ]
    }
   ],
   "source": [
    "# x_train_sub = x_train_sub[:100]\n",
    "# y_train_sub = y_train_sub[:100]\n",
    "\n",
    "print('There are', len(x_train_sub), 'training images.')"
   ]
  },
  {
   "cell_type": "code",
   "execution_count": 7,
   "metadata": {},
   "outputs": [],
   "source": [
    "train_ds = tf.data.Dataset.from_tensor_slices((x_train_sub, y_train_sub)).shuffle(10000).batch(32)\n",
    "test_ds = tf.data.Dataset.from_tensor_slices((x_test_sub, y_test_sub)).batch(32)"
   ]
  },
  {
   "cell_type": "code",
   "execution_count": 8,
   "metadata": {},
   "outputs": [],
   "source": [
    "# # Standard BP\n",
    "# model_bp = keras.Sequential(\n",
    "#     [\n",
    "#         keras.Input(shape=(784,)),\n",
    "#         layers.Dense(32, activation = \"sigmoid\"),\n",
    "#         layers.Dense(1, activation = \"sigmoid\")\n",
    "#     ]\n",
    "# )\n",
    "\n",
    "# batch_size = 32\n",
    "# epochs = 200\n",
    "# #opt = tf.keras.optimizers.SGD(learning_rate=.1)\n",
    "# opt = tf.keras.optimizers.Adam(learning_rate=.01)\n",
    "# st = time.time()\n",
    "# model_bp.compile(loss=\"binary_crossentropy\", optimizer=opt, metrics=[\"accuracy\", \"AUC\"])\n",
    "# history = model_bp.fit(train_ds, batch_size=batch_size, epochs=epochs)\n",
    "# print(time.time() - st)"
   ]
  },
  {
   "cell_type": "code",
   "execution_count": 9,
   "metadata": {},
   "outputs": [],
   "source": [
    "def convert2_zero_one(x):\n",
    "    \n",
    "    t = [tf.math.sigmoid(i) for i in x]    \n",
    "    return t\n",
    "\n",
    "def cont_bern_log_norm(lam, l_lim=0.49, u_lim=0.51):\n",
    "    '''\n",
    "    computes the log normalizing constant of a continuous Bernoulli distribution in a numerically stable way.\n",
    "    returns the log normalizing constant for lam in (0, l_lim) U (u_lim, 1) and a Taylor approximation in\n",
    "    [l_lim, u_lim].\n",
    "    cut_y below might appear useless, but it is important to not evaluate log_norm near 0.5 as tf.where evaluates\n",
    "    both options, regardless of the value of the condition.\n",
    "    '''\n",
    "    \n",
    "    cut_lam = tf.where(tm.logical_or(tm.less(lam, l_lim), tm.greater(lam, u_lim)), lam, l_lim * tf.ones_like(lam))\n",
    "    log_norm = tm.log(tm.abs(2.0 * tm.atanh(1 - 2.0 * cut_lam))) - tm.log(tm.abs(1 - 2.0 * cut_lam))\n",
    "    taylor = tm.log(2.0) + 4.0 / 3.0 * tm.pow(lam - 0.5, 2) + 104.0 / 45.0 * tm.pow(lam - 0.5, 4)\n",
    "    return tf.where(tm.logical_or(tm.less(lam, l_lim), tm.greater(lam, u_lim)), log_norm, taylor)"
   ]
  },
  {
   "cell_type": "code",
   "execution_count": 53,
   "metadata": {},
   "outputs": [],
   "source": [
    "# MLP model\n",
    "class StochasticMLP(Model):\n",
    "    \n",
    "    def __init__(self, hidden_layer_sizes=[100], n_outputs=10):\n",
    "        super(StochasticMLP, self).__init__()\n",
    "        self.hidden_layer_sizes = hidden_layer_sizes\n",
    "        \n",
    "        #initializer = initializers.RandomUniform(minval=-0.001, maxval=0.001, seed=None)\n",
    "        #l1_initializer = initializers.RandomUniform(minval=-0.001 * 255, maxval=0.001 * 255, seed=None)\n",
    "        #self.fc_layers = [Dense(layer_size, kernel_initializer=initializer) for layer_size in hidden_layer_sizes]\n",
    "        self.fc_layers = [Dense(layer_size) for layer_size in hidden_layer_sizes]\n",
    "        \n",
    "        #self.output_layer = Dense(n_outputs, kernel_initializer=initializer)\n",
    "        self.output_layer = Dense(n_outputs)\n",
    "    \n",
    "    \n",
    "    def call_stochastic(self, x, inpainting=False, x_mask=None):\n",
    "        \n",
    "        if inpainting:\n",
    "            self.num_missing = int(x_mask.reshape((-1, 784)).sum(axis=-1).mean())\n",
    "            network = [tf.cast(np.zeros((len(x), self.num_missing)), dtype=tf.float32)]\n",
    "        else:\n",
    "            network = []\n",
    "        \n",
    "        for i, layer in enumerate(self.fc_layers):\n",
    "            \n",
    "            logits = layer(x)\n",
    "            x = tfp.distributions.Bernoulli(logits=logits).sample()\n",
    "            network.append(x)\n",
    "\n",
    "        final_logits = self.output_layer(x) # initial the weight of output layer\n",
    "        \n",
    "        return network\n",
    "    \n",
    "    \n",
    "    def call(self, x):\n",
    "\n",
    "        for layer in self.fc_layers:\n",
    "            x = tm.sigmoid(layer(x))\n",
    "            \n",
    "        return tm.sigmoid(self.output_layer(x))\n",
    "\n",
    "    \n",
    "    def target_log_prob(self, x, h, y):\n",
    "        \n",
    "        h_current = convert2_zero_one([tf.cast(h_i, dtype=tf.float32) for h_i in h])\n",
    "        h_previous = [x] + h_current[:-1]\n",
    "    \n",
    "        nlog_prob = 0. # negative log probability\n",
    "        \n",
    "        for i, (cv, pv, layer) in enumerate(\n",
    "            zip(h_current, h_previous, self.fc_layers)):\n",
    "            \n",
    "            logits = layer(pv)\n",
    "            #print(cont_bern_log_norm(tf.nn.sigmoid(logits)))\n",
    "            \n",
    "            ce = tf.nn.sigmoid_cross_entropy_with_logits(\n",
    "                labels=cv, logits=logits)\n",
    "            \n",
    "            ce += cont_bern_log_norm(tf.nn.sigmoid(logits))\n",
    "            \n",
    "            nlog_prob += tf.reduce_sum(ce, axis = -1)\n",
    "        \n",
    "        fce = tf.nn.sigmoid_cross_entropy_with_logits(\n",
    "            labels=tf.cast(y, tf.float32), logits=self.output_layer(h_current[-1]))\n",
    "        nlog_prob += tf.reduce_sum(fce, axis = -1)\n",
    "            \n",
    "        return -1 * nlog_prob\n",
    "\n",
    "    \n",
    "    def target_log_prob2(self, x, h, y):\n",
    "\n",
    "        h_current = convert2_zero_one(tf.split(h, self.hidden_layer_sizes, axis = 1))\n",
    "        h_previous = [x] + h_current[:-1]\n",
    "        \n",
    "        nlog_prob = 0.\n",
    "        \n",
    "        for i, (cv, pv, layer) in enumerate(\n",
    "            zip(h_current, h_previous, self.fc_layers)):\n",
    "            \n",
    "            logits = layer(pv)\n",
    "            ce = tf.nn.sigmoid_cross_entropy_with_logits(\n",
    "                labels=cv, logits=logits)\n",
    "            \n",
    "            ce += cont_bern_log_norm(tf.nn.sigmoid(logits))\n",
    "            \n",
    "            nlog_prob += tf.reduce_sum(ce, axis = -1)\n",
    "        \n",
    "        fce = tf.nn.sigmoid_cross_entropy_with_logits(\n",
    "            labels=tf.cast(y, tf.float32), logits=self.output_layer(h_current[-1]))\n",
    "        nlog_prob += tf.reduce_sum(fce, axis = -1)\n",
    "            \n",
    "        return -1 * nlog_prob\n",
    "\n",
    "    \n",
    "    def target_log_prob_inpainting(self, x, x_mask, h, y):\n",
    "\n",
    "        h_current = [tf.nn.sigmoid(l) for l in tf.split(h, [self.num_missing] + self.hidden_layer_sizes, axis = 1)]\n",
    "        \n",
    "        #x_filled = tf.where(\n",
    "        #    tf.cast(x_mask.reshape(-1, 784), dtype=tf.bool),\n",
    "        #    h_current[0],\n",
    "        #    tf.cast(x, dtype=tf.float32)\n",
    "        #)\n",
    "\n",
    "        x_filled = tf.cast(x, dtype=tf.float32)\n",
    "        tf.tensor_scatter_nd_update(\n",
    "            x_filled,\n",
    "            tf.where(tf.cast(x_mask.reshape(-1, 28 * 28), dtype=tf.bool)),\n",
    "            tf.reshape(h_current[0], (-1))\n",
    "        )\n",
    "        #x_filled[x_mask] = h_current[0]\n",
    "        \n",
    "        h_current = h_current[1:]\n",
    "        h_previous = [x_filled] + h_current[:-1]\n",
    "        \n",
    "        nlog_prob = 0.\n",
    "        \n",
    "        for i, (cv, pv, layer) in enumerate(\n",
    "            zip(h_current, h_previous, self.fc_layers)):\n",
    "            \n",
    "            logits = layer(pv)\n",
    "            ce = tf.nn.sigmoid_cross_entropy_with_logits(\n",
    "                labels=cv, logits=logits)\n",
    "            \n",
    "            ce += cont_bern_log_norm(tf.nn.sigmoid(logits))\n",
    "            \n",
    "            nlog_prob += tf.reduce_sum(ce, axis = -1)\n",
    "        \n",
    "        fce = tf.nn.sigmoid_cross_entropy_with_logits(\n",
    "            labels=tf.cast(y, tf.float32), logits=self.output_layer(h_current[-1]))\n",
    "        nlog_prob += tf.reduce_sum(fce, axis = -1)\n",
    "            \n",
    "        return -1 * nlog_prob\n",
    "    \n",
    "    \n",
    "    def generate_hmc_kernel(self, x, y, step_size = pow(1000, -1/4)):\n",
    "        \n",
    "        adaptive_hmc = tfp.mcmc.SimpleStepSizeAdaptation(tfp.mcmc.HamiltonianMonteCarlo(\n",
    "            target_log_prob_fn = lambda v: self.target_log_prob2(x, v, y),\n",
    "            num_leapfrog_steps = 2,\n",
    "            step_size = step_size),\n",
    "            num_adaptation_steps=int(100 * 0.8))\n",
    "        \n",
    "        return adaptive_hmc\n",
    "    \n",
    "    \n",
    "    def generate_hmc_kernel_inpainting(self, x, x_mask, y, step_size = pow(1000, -1/4)):\n",
    "        \n",
    "        adaptive_hmc = tfp.mcmc.SimpleStepSizeAdaptation(tfp.mcmc.HamiltonianMonteCarlo(\n",
    "            target_log_prob_fn = lambda v: self.target_log_prob_inpainting(x, x_mask, v, y),\n",
    "            num_leapfrog_steps = 2,\n",
    "            step_size = step_size),\n",
    "            num_adaptation_steps=int(100 * 0.8))\n",
    "        \n",
    "        return adaptive_hmc\n",
    "    \n",
    "    \n",
    "    # new proposing-state method with HamiltonianMonteCarlo\n",
    "    def propose_new_state_hamiltonian(self, x, h, y, hmc_kernel, is_update_kernel = True, inpainting=False):\n",
    "    \n",
    "        h_current = h\n",
    "        h_current = [tf.cast(h_i, dtype=tf.float32) for h_i in h_current]\n",
    "        h_current = tf.concat(h_current, axis = 1)\n",
    "\n",
    "        # run the chain (with burn-in)\n",
    "        num_burnin_steps = 0\n",
    "        num_results = 1\n",
    "\n",
    "        samples = tfp.mcmc.sample_chain(\n",
    "            num_results = num_results,\n",
    "            num_burnin_steps = num_burnin_steps,\n",
    "            current_state = h_current, # may need to be reshaped\n",
    "            kernel = hmc_kernel,\n",
    "            trace_fn = None,\n",
    "            return_final_kernel_results = True)\n",
    "    \n",
    "        # Generate new states of chains\n",
    "        #h_state = rerange(samples[0][0])\n",
    "        h_state = samples[0][0]\n",
    "        if inpainting:\n",
    "            h_new = tf.split(h_state, [self.num_missing] + self.hidden_layer_sizes, axis = 1)\n",
    "        else:\n",
    "            h_new = tf.split(h_state, self.hidden_layer_sizes, axis = 1)\n",
    "        \n",
    "        # Update the kernel if necesssary\n",
    "        if is_update_kernel:\n",
    "            new_step_size = samples[2].new_step_size.numpy()\n",
    "            ker_new = self.generate_hmc_kernel(x, y, new_step_size)\n",
    "            return(h_new, ker_new)\n",
    "        else:\n",
    "            return h_new\n",
    "    \n",
    "    \n",
    "    def update_weights(self, x, h, y, lr = 0.0001):\n",
    "        \n",
    "        #optimizer = tf.keras.optimizers.SGD(learning_rate = lr)\n",
    "        optimizer = tf.keras.optimizers.Adam(learning_rate = lr)\n",
    "        \n",
    "        with tf.GradientTape() as tape:\n",
    "            loss = -1 * tf.reduce_mean(self.target_log_prob(x, h, y))\n",
    "        \n",
    "        grads = tape.gradient(loss, self.trainable_weights)\n",
    "        optimizer.apply_gradients(zip(grads, self.trainable_weights))\n",
    "\n",
    "    \n",
    "    def get_predictions(self, x):\n",
    "\n",
    "        logits = 0.0\n",
    "        for layer in self.fc_layers:\n",
    "            logits = layer(x)\n",
    "            x = tm.sigmoid(logits)\n",
    "        \n",
    "        logits = self.output_layer(x)\n",
    "        probs = tm.sigmoid(logits)\n",
    "        #print(probs)\n",
    "        labels = tf.cast(tm.greater(probs, 0.5), tf.int32)\n",
    "\n",
    "        return labels"
   ]
  },
  {
   "cell_type": "code",
   "execution_count": 54,
   "metadata": {},
   "outputs": [],
   "source": [
    "model = StochasticMLP(hidden_layer_sizes = [32], n_outputs = 1)"
   ]
  },
  {
   "cell_type": "code",
   "execution_count": 55,
   "metadata": {
    "scrolled": false
   },
   "outputs": [
    {
     "name": "stdout",
     "output_type": "stream",
     "text": [
      "Epoch 1/10\n",
      "396/396 [==============================] - 0s 572us/step - loss: 0.0650 - accuracy: 0.9916 - auc: 0.9995\n",
      "Epoch 2/10\n",
      "396/396 [==============================] - 0s 565us/step - loss: 0.0093 - accuracy: 0.9985 - auc: 1.0000\n",
      "Epoch 3/10\n",
      "396/396 [==============================] - 0s 554us/step - loss: 0.0054 - accuracy: 0.9991 - auc: 1.0000\n",
      "Epoch 4/10\n",
      "396/396 [==============================] - 0s 578us/step - loss: 0.0039 - accuracy: 0.9991 - auc: 1.0000\n",
      "Epoch 5/10\n",
      "396/396 [==============================] - 0s 544us/step - loss: 0.0031 - accuracy: 0.9992 - auc: 0.9999\n",
      "Epoch 6/10\n",
      "396/396 [==============================] - 0s 555us/step - loss: 0.0024 - accuracy: 0.9994 - auc: 0.9999\n",
      "Epoch 7/10\n",
      "396/396 [==============================] - 0s 583us/step - loss: 0.0019 - accuracy: 0.9996 - auc: 0.9999\n",
      "Epoch 8/10\n",
      "396/396 [==============================] - 0s 561us/step - loss: 0.0016 - accuracy: 0.9996 - auc: 0.9999\n",
      "Epoch 9/10\n",
      "396/396 [==============================] - 0s 553us/step - loss: 0.0013 - accuracy: 0.9998 - auc: 1.0000\n",
      "Epoch 10/10\n",
      "396/396 [==============================] - 0s 556us/step - loss: 0.0010 - accuracy: 0.9998 - auc: 1.0000\n"
     ]
    }
   ],
   "source": [
    "# Train with backprop\n",
    "\n",
    "batch_size = 32\n",
    "epochs = 10\n",
    "opt = tf.keras.optimizers.Adam(learning_rate=.001)\n",
    "model.compile(loss=\"binary_crossentropy\", optimizer=opt, metrics=[\"accuracy\", \"AUC\"])\n",
    "history = model.fit(train_ds, batch_size=batch_size, epochs=epochs)"
   ]
  },
  {
   "cell_type": "code",
   "execution_count": 64,
   "metadata": {
    "scrolled": true
   },
   "outputs": [],
   "source": [
    "x_mask = np.array([[[False] * 28] * 28] * 32)\n",
    "x_mask[:, 11:17, 11:17] = True"
   ]
  },
  {
   "cell_type": "code",
   "execution_count": 65,
   "metadata": {},
   "outputs": [],
   "source": [
    "for images, labels in train_ds:\n",
    "    net = model.call_stochastic(images, inpainting=True, x_mask=x_mask)\n",
    "    kernel = model.generate_hmc_kernel_inpainting(images, x_mask, labels)\n",
    "    break"
   ]
  },
  {
   "cell_type": "code",
   "execution_count": 66,
   "metadata": {
    "scrolled": false
   },
   "outputs": [
    {
     "name": "stdout",
     "output_type": "stream",
     "text": [
      "Step 0\n",
      "Step 100\n",
      "Step 200\n",
      "Step 300\n",
      "Step 400\n",
      "Step 500\n",
      "Step 600\n",
      "Step 700\n",
      "Step 800\n",
      "Step 900\n"
     ]
    }
   ],
   "source": [
    "# Burn-in\n",
    "burnin = 1000\n",
    "newnet = net\n",
    "\n",
    "for i in range(burnin):\n",
    "\n",
    "    if(i % 100 == 0): print(\"Step %d\" % i)\n",
    "    \n",
    "    newnet = model.propose_new_state_hamiltonian(\n",
    "        images, newnet, labels, kernel,\n",
    "        is_update_kernel=False,\n",
    "        inpainting=True\n",
    "    )"
   ]
  },
  {
   "cell_type": "code",
   "execution_count": 67,
   "metadata": {
    "scrolled": false
   },
   "outputs": [
    {
     "data": {
      "image/png": "[encoded data removed]",
      "text/plain": [
       "<Figure size 1080x3600 with 30 Axes>"
      ]
     },
     "metadata": {
      "needs_background": "light"
     },
     "output_type": "display_data"
    }
   ],
   "source": [
    "NUM_IMAGES = 10\n",
    "\n",
    "fig, ax = plt.subplots(nrows=10, ncols=3, figsize=(15, NUM_IMAGES * 5))\n",
    "\n",
    "sigmoid = lambda x: 1 / (1 + np.exp(-x))\n",
    "\n",
    "for IMG_NUM in range(NUM_IMAGES):\n",
    "\n",
    "    fill_vals = sigmoid(newnet[0].numpy()[IMG_NUM])\n",
    "    flat_mask = x_mask[0].flatten()\n",
    "    #print('max is', filled_vals.max(), 'and min is', filled_vals.min())\n",
    "    x_vals = images[IMG_NUM].numpy()\n",
    "    \n",
    "    x_filled = x_vals.copy()\n",
    "    x_filled[flat_mask] = fill_vals\n",
    "\n",
    "    ax[IMG_NUM, 0].imshow(x_vals.reshape((28, 28)), cmap='gray')\n",
    "    ax[IMG_NUM, 1].imshow(x_mask[0], cmap='gray')\n",
    "    ax[IMG_NUM, 2].imshow(x_filled.reshape((28, 28)), cmap='gray')\n",
    "    ax[IMG_NUM, 0].set_title('Original Image')\n",
    "    ax[IMG_NUM, 1].set_title('Portion Removed')\n",
    "    ax[IMG_NUM, 2].set_title('CD-HMC Completion')\n",
    "    ax[IMG_NUM, 0].axis('off')\n",
    "    ax[IMG_NUM, 1].axis('off')\n",
    "    ax[IMG_NUM, 2].axis('off')\n",
    "\n",
    "plt.tight_layout()\n",
    "plt.savefig('inpainting_no_extra_dims.pdf')\n",
    "plt.show()"
   ]
  },
  {
   "cell_type": "code",
   "execution_count": null,
   "metadata": {},
   "outputs": [],
   "source": []
  }
 ],
 "metadata": {
  "kernelspec": {
   "display_name": "tfhmc",
   "language": "python",
   "name": "tfhmc"
  },
  "language_info": {
   "codemirror_mode": {
    "name": "ipython",
    "version": 3
   },
   "file_extension": ".py",
   "mimetype": "text/x-python",
   "name": "python",
   "nbconvert_exporter": "python",
   "pygments_lexer": "ipython3",
   "version": "3.8.13"
  }
 },
 "nbformat": 4,
 "nbformat_minor": 2
}
