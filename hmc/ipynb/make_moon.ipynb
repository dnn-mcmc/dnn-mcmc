{
 "cells": [
  {
   "cell_type": "code",
   "execution_count": 1,
   "metadata": {},
   "outputs": [],
   "source": [
    "import tensorflow as tf\n",
    "import tensorflow_probability as tfp\n",
    "import tensorflow.math as tm\n",
    "import numpy as np\n",
    "import random\n",
    "import time\n",
    "import matplotlib.pyplot as plt\n",
    "\n",
    "from tensorflow import keras\n",
    "from tensorflow.keras import layers\n",
    "from tensorflow.keras import initializers\n",
    "from tensorflow.keras import Model\n",
    "from tensorflow.keras import models\n",
    "from tensorflow.keras.layers import Dense, Conv2D, Dropout, Flatten, MaxPooling2D\n",
    "from tensorflow.keras.models import Sequential\n",
    "from sklearn.metrics import accuracy_score\n",
    "from sklearn.datasets import make_moons\n",
    "from sklearn.model_selection import train_test_split"
   ]
  },
  {
   "cell_type": "code",
   "execution_count": 20,
   "metadata": {},
   "outputs": [],
   "source": [
    "np.random.seed(1234)\n",
    "X, Y = make_moons(200, noise = 0.3)\n",
    "\n",
    "# Split into test and training data\n",
    "x_train, x_test, y_train, y_test = train_test_split(X, Y, test_size=0.25, random_state=73)\n",
    "y_train = np.reshape(y_train, (y_train.shape[0], 1))\n",
    "y_test = np.reshape(y_test, (y_test.shape[0], 1))\n",
    "\n",
    "train_ds = tf.data.Dataset.from_tensor_slices((x_train, y_train)).batch(32)\n",
    "test_ds = tf.data.Dataset.from_tensor_slices((x_test, y_test)).batch(32)"
   ]
  },
  {
   "cell_type": "code",
   "execution_count": 21,
   "metadata": {},
   "outputs": [
    {
     "data": {
      "image/png": "[encoded data removed]",
      "text/plain": [
       "<Figure size 432x288 with 1 Axes>"
      ]
     },
     "metadata": {
      "needs_background": "light"
     },
     "output_type": "display_data"
    }
   ],
   "source": [
    "import matplotlib.pyplot as plt\n",
    "plt.scatter(*x_train[y_train.flatten() == 1, :].T)\n",
    "plt.scatter(*x_train[y_train.flatten() == 0, :].T)\n",
    "plt.show()"
   ]
  },
  {
   "cell_type": "code",
   "execution_count": 22,
   "metadata": {},
   "outputs": [
    {
     "data": {
      "text/plain": [
       "(numpy.ndarray, (150, 1))"
      ]
     },
     "execution_count": 22,
     "metadata": {},
     "output_type": "execute_result"
    }
   ],
   "source": [
    "type(x_train), np.shape(y_train)"
   ]
  },
  {
   "cell_type": "code",
   "execution_count": 23,
   "metadata": {},
   "outputs": [
    {
     "name": "stdout",
     "output_type": "stream",
     "text": [
      "WARNING:tensorflow:Please add `keras.layers.InputLayer` instead of `keras.Input` to Sequential model. `keras.Input` is intended to be used by Functional model.\n",
      "Epoch 1/50\n",
      "5/5 [==============================] - 1s 1ms/step - loss: 0.6889 - accuracy: 0.5667 - auc: 0.6154\n",
      "Epoch 2/50\n",
      "5/5 [==============================] - 0s 949us/step - loss: 0.6553 - accuracy: 0.6400 - auc: 0.7814\n",
      "Epoch 3/50\n",
      "5/5 [==============================] - 0s 1ms/step - loss: 0.6480 - accuracy: 0.6600 - auc: 0.7685\n",
      "Epoch 4/50\n",
      "5/5 [==============================] - 0s 1ms/step - loss: 0.6360 - accuracy: 0.7000 - auc: 0.8112\n",
      "Epoch 5/50\n",
      "5/5 [==============================] - 0s 1ms/step - loss: 0.6273 - accuracy: 0.7267 - auc: 0.8357\n",
      "Epoch 6/50\n",
      "5/5 [==============================] - 0s 1ms/step - loss: 0.6185 - accuracy: 0.7133 - auc: 0.8450\n",
      "Epoch 7/50\n",
      "5/5 [==============================] - 0s 1ms/step - loss: 0.6140 - accuracy: 0.7400 - auc: 0.8370\n",
      "Epoch 8/50\n",
      "5/5 [==============================] - 0s 1ms/step - loss: 0.6026 - accuracy: 0.7333 - auc: 0.8612\n",
      "Epoch 9/50\n",
      "5/5 [==============================] - 0s 1ms/step - loss: 0.5956 - accuracy: 0.7600 - auc: 0.8603\n",
      "Epoch 10/50\n",
      "5/5 [==============================] - 0s 1ms/step - loss: 0.5873 - accuracy: 0.7400 - auc: 0.8695\n",
      "Epoch 11/50\n",
      "5/5 [==============================] - 0s 1ms/step - loss: 0.5837 - accuracy: 0.7533 - auc: 0.8590\n",
      "Epoch 12/50\n",
      "5/5 [==============================] - 0s 1ms/step - loss: 0.5728 - accuracy: 0.7800 - auc: 0.8760\n",
      "Epoch 13/50\n",
      "5/5 [==============================] - 0s 1ms/step - loss: 0.5669 - accuracy: 0.7600 - auc: 0.8759\n",
      "Epoch 14/50\n",
      "5/5 [==============================] - 0s 1ms/step - loss: 0.5587 - accuracy: 0.7933 - auc: 0.8836\n",
      "Epoch 15/50\n",
      "5/5 [==============================] - 0s 1ms/step - loss: 0.5524 - accuracy: 0.7933 - auc: 0.8836\n",
      "Epoch 16/50\n",
      "5/5 [==============================] - 0s 1ms/step - loss: 0.5468 - accuracy: 0.7800 - auc: 0.8819\n",
      "Epoch 17/50\n",
      "5/5 [==============================] - 0s 1ms/step - loss: 0.5421 - accuracy: 0.7933 - auc: 0.8797\n",
      "Epoch 18/50\n",
      "5/5 [==============================] - 0s 1ms/step - loss: 0.5335 - accuracy: 0.7733 - auc: 0.8831\n",
      "Epoch 19/50\n",
      "5/5 [==============================] - 0s 1ms/step - loss: 0.5262 - accuracy: 0.8067 - auc: 0.8886\n",
      "Epoch 20/50\n",
      "5/5 [==============================] - 0s 1ms/step - loss: 0.5207 - accuracy: 0.7867 - auc: 0.8898\n",
      "Epoch 21/50\n",
      "5/5 [==============================] - 0s 1ms/step - loss: 0.5157 - accuracy: 0.8067 - auc: 0.8894\n",
      "Epoch 22/50\n",
      "5/5 [==============================] - 0s 1ms/step - loss: 0.5097 - accuracy: 0.7800 - auc: 0.8927\n",
      "Epoch 23/50\n",
      "5/5 [==============================] - 0s 1ms/step - loss: 0.5017 - accuracy: 0.8133 - auc: 0.8958\n",
      "Epoch 24/50\n",
      "5/5 [==============================] - 0s 1ms/step - loss: 0.4973 - accuracy: 0.8067 - auc: 0.8936\n",
      "Epoch 25/50\n",
      "5/5 [==============================] - 0s 1ms/step - loss: 0.4936 - accuracy: 0.8133 - auc: 0.8941\n",
      "Epoch 26/50\n",
      "5/5 [==============================] - 0s 1ms/step - loss: 0.4895 - accuracy: 0.8067 - auc: 0.8942\n",
      "Epoch 27/50\n",
      "5/5 [==============================] - 0s 1ms/step - loss: 0.4822 - accuracy: 0.8067 - auc: 0.8984\n",
      "Epoch 28/50\n",
      "5/5 [==============================] - 0s 1ms/step - loss: 0.4755 - accuracy: 0.8267 - auc: 0.8999\n",
      "Epoch 29/50\n",
      "5/5 [==============================] - 0s 1ms/step - loss: 0.4714 - accuracy: 0.8000 - auc: 0.9025\n",
      "Epoch 30/50\n",
      "5/5 [==============================] - 0s 1ms/step - loss: 0.4666 - accuracy: 0.8067 - auc: 0.9030\n",
      "Epoch 31/50\n",
      "5/5 [==============================] - 0s 1ms/step - loss: 0.4632 - accuracy: 0.8133 - auc: 0.9013\n",
      "Epoch 32/50\n",
      "5/5 [==============================] - 0s 2ms/step - loss: 0.4592 - accuracy: 0.8067 - auc: 0.9043\n",
      "Epoch 33/50\n",
      "5/5 [==============================] - 0s 1ms/step - loss: 0.4534 - accuracy: 0.8133 - auc: 0.9059\n",
      "Epoch 34/50\n",
      "5/5 [==============================] - 0s 1ms/step - loss: 0.4500 - accuracy: 0.8133 - auc: 0.9054\n",
      "Epoch 35/50\n",
      "5/5 [==============================] - 0s 1ms/step - loss: 0.4483 - accuracy: 0.8133 - auc: 0.9039\n",
      "Epoch 36/50\n",
      "5/5 [==============================] - 0s 1ms/step - loss: 0.4425 - accuracy: 0.8133 - auc: 0.9062\n",
      "Epoch 37/50\n",
      "5/5 [==============================] - 0s 1ms/step - loss: 0.4398 - accuracy: 0.8133 - auc: 0.9075\n",
      "Epoch 38/50\n",
      "5/5 [==============================] - 0s 1ms/step - loss: 0.4379 - accuracy: 0.8000 - auc: 0.9064\n",
      "Epoch 39/50\n",
      "5/5 [==============================] - 0s 1ms/step - loss: 0.4333 - accuracy: 0.8133 - auc: 0.9066\n",
      "Epoch 40/50\n",
      "5/5 [==============================] - 0s 1ms/step - loss: 0.4317 - accuracy: 0.8067 - auc: 0.9065\n",
      "Epoch 41/50\n",
      "5/5 [==============================] - 0s 1ms/step - loss: 0.4274 - accuracy: 0.8133 - auc: 0.9093\n",
      "Epoch 42/50\n",
      "5/5 [==============================] - 0s 1ms/step - loss: 0.4236 - accuracy: 0.8200 - auc: 0.9111\n",
      "Epoch 43/50\n",
      "5/5 [==============================] - 0s 1ms/step - loss: 0.4205 - accuracy: 0.8200 - auc: 0.9128\n",
      "Epoch 44/50\n",
      "5/5 [==============================] - 0s 1ms/step - loss: 0.4188 - accuracy: 0.8200 - auc: 0.9112\n",
      "Epoch 45/50\n",
      "5/5 [==============================] - 0s 1ms/step - loss: 0.4152 - accuracy: 0.8067 - auc: 0.9128\n",
      "Epoch 46/50\n",
      "5/5 [==============================] - 0s 1ms/step - loss: 0.4129 - accuracy: 0.8200 - auc: 0.9137\n",
      "Epoch 47/50\n",
      "5/5 [==============================] - 0s 1ms/step - loss: 0.4146 - accuracy: 0.8200 - auc: 0.9097\n",
      "Epoch 48/50\n",
      "5/5 [==============================] - 0s 1ms/step - loss: 0.4083 - accuracy: 0.8200 - auc: 0.9130\n",
      "Epoch 49/50\n",
      "5/5 [==============================] - 0s 1ms/step - loss: 0.4063 - accuracy: 0.8133 - auc: 0.9152\n",
      "Epoch 50/50\n",
      "5/5 [==============================] - 0s 1ms/step - loss: 0.4046 - accuracy: 0.8067 - auc: 0.9144\n",
      "0.9800729751586914\n"
     ]
    }
   ],
   "source": [
    "# Standard BP\n",
    "model_bp = keras.Sequential(\n",
    "    [\n",
    "        keras.Input(shape=(2,)),\n",
    "        layers.Dense(32, activation = \"sigmoid\"),\n",
    "        layers.Dense(1, activation = \"sigmoid\")\n",
    "    ]\n",
    ")\n",
    "\n",
    "batch_size = 32\n",
    "epochs = 50\n",
    "opt = tf.keras.optimizers.SGD(learning_rate=.1)\n",
    "st = time.time()\n",
    "model_bp.compile(loss=\"binary_crossentropy\", optimizer=opt, metrics=[\"accuracy\", \"AUC\"])\n",
    "history = model_bp.fit(x_train, y_train, batch_size=batch_size, epochs=epochs)\n",
    "\n",
    "print(\"Time of SGD\", time.time() - st)"
   ]
  },
  {
   "cell_type": "code",
   "execution_count": 24,
   "metadata": {},
   "outputs": [
    {
     "name": "stdout",
     "output_type": "stream",
     "text": [
      "dict_keys(['loss', 'accuracy', 'auc'])\n"
     ]
    },
    {
     "data": {
      "text/plain": [
       "[<matplotlib.lines.Line2D at 0x181791730>]"
      ]
     },
     "execution_count": 24,
     "metadata": {},
     "output_type": "execute_result"
    },
    {
     "data": {
      "image/png": "[encoded data removed]",
      "text/plain": [
       "<Figure size 432x288 with 1 Axes>"
      ]
     },
     "metadata": {
      "needs_background": "light"
     },
     "output_type": "display_data"
    }
   ],
   "source": [
    "print(history.history.keys())\n",
    "#plt.plot(history.history['loss'])\n",
    "plt.plot(history.history['accuracy'])"
   ]
  },
  {
   "cell_type": "code",
   "execution_count": 14,
   "metadata": {},
   "outputs": [],
   "source": [
    "def convert2_zero_one(x):\n",
    "    \n",
    "    t = [tm.sigmoid(i) for i in x]\n",
    "    \n",
    "    return t"
   ]
  },
  {
   "cell_type": "code",
   "execution_count": 15,
   "metadata": {},
   "outputs": [],
   "source": [
    "def rerange(x, r = 6.0):\n",
    "    \n",
    "    out_of_range = tf.cast(tm.greater(tm.abs(x), r), tf.float32)\n",
    "    sign = tm.sign(x)\n",
    "    \n",
    "    return x * (1 - out_of_range) + sign * r * out_of_range"
   ]
  },
  {
   "cell_type": "code",
   "execution_count": 16,
   "metadata": {},
   "outputs": [],
   "source": [
    "def cont_bern_log_norm(lam, l_lim=0.49, u_lim=0.51):\n",
    "    '''\n",
    "    computes the log normalizing constant of a continuous Bernoulli distribution in a numerically stable way.\n",
    "    returns the log normalizing constant for lam in (0, l_lim) U (u_lim, 1) and a Taylor approximation in\n",
    "    [l_lim, u_lim].\n",
    "    cut_y below might appear useless, but it is important to not evaluate log_norm near 0.5 as tf.where evaluates\n",
    "    both options, regardless of the value of the condition.\n",
    "    '''\n",
    "    \n",
    "    cut_lam = tf.where(tm.logical_or(tm.less(lam, l_lim), tm.greater(lam, u_lim)), lam, l_lim * tf.ones_like(lam))\n",
    "    log_norm = tm.log(tm.abs(2.0 * tm.atanh(1 - 2.0 * cut_lam))) - tm.log(tm.abs(1 - 2.0 * cut_lam))\n",
    "    taylor = tm.log(2.0) + 4.0 / 3.0 * tm.pow(lam - 0.5, 2) + 104.0 / 45.0 * tm.pow(lam - 0.5, 4)\n",
    "    return tf.where(tm.logical_or(tm.less(lam, l_lim), tm.greater(lam, u_lim)), log_norm, taylor)\n"
   ]
  },
  {
   "cell_type": "code",
   "execution_count": 17,
   "metadata": {},
   "outputs": [],
   "source": [
    "# MLP model\n",
    "class StochasticMLP(Model):\n",
    "    \n",
    "    def __init__(self, hidden_layer_sizes=[100], n_outputs=10):\n",
    "        super(StochasticMLP, self).__init__()\n",
    "        self.hidden_layer_sizes = hidden_layer_sizes\n",
    "        self.fc_layers = [Dense(layer_size) for layer_size in hidden_layer_sizes]\n",
    "        self.output_layer = Dense(n_outputs)\n",
    "    \n",
    "    def call(self, x):\n",
    "        \n",
    "        #x = Flatten()(x)\n",
    "        \n",
    "        network = []\n",
    "        \n",
    "        for i, layer in enumerate(self.fc_layers):\n",
    "            \n",
    "            logits = layer(x)\n",
    "            x = tfp.distributions.Bernoulli(logits=logits).sample()\n",
    "            network.append(x)\n",
    "\n",
    "        final_logits = self.output_layer(x) # initial the weight of output layer\n",
    "            \n",
    "        return network\n",
    "    \n",
    "    def target_log_prob(self, x, h, y):\n",
    "        \n",
    "        h_current = convert2_zero_one([tf.cast(h_i, dtype=tf.float32) for h_i in h])\n",
    "        h_previous = [x] + h_current[:-1]\n",
    "    \n",
    "        nlog_prob = 0. # negative log probability\n",
    "        \n",
    "        for i, (cv, pv, layer) in enumerate(\n",
    "            zip(h_current, h_previous, self.fc_layers)):\n",
    "            \n",
    "            logits = layer(pv)\n",
    "            \n",
    "            ce = tf.nn.sigmoid_cross_entropy_with_logits(\n",
    "                labels=cv, logits=logits)\n",
    "            \n",
    "            ce += cont_bern_log_norm(tf.nn.sigmoid(logits))\n",
    "            \n",
    "            nlog_prob += tf.reduce_sum(ce, axis = -1)\n",
    "        \n",
    "        fce = tf.nn.sigmoid_cross_entropy_with_logits(\n",
    "            labels=tf.cast(y, tf.float32), logits=self.output_layer(h_current[-1]))\n",
    "        nlog_prob += tf.reduce_sum(fce, axis = -1)\n",
    "            \n",
    "        return -1 * nlog_prob\n",
    "\n",
    "    def target_log_prob2(self, x, h, y):\n",
    "\n",
    "        h_current = convert2_zero_one(tf.split(h, self.hidden_layer_sizes, axis = 1))\n",
    "        h_previous = [x] + h_current[:-1]\n",
    "        \n",
    "        nlog_prob = 0.\n",
    "        \n",
    "        for i, (cv, pv, layer) in enumerate(\n",
    "            zip(h_current, h_previous, self.fc_layers)):\n",
    "            \n",
    "            logits = layer(pv)\n",
    "            ce = tf.nn.sigmoid_cross_entropy_with_logits(\n",
    "                labels=cv, logits=logits)\n",
    "            \n",
    "            ce += cont_bern_log_norm(tf.nn.sigmoid(logits))\n",
    "            \n",
    "            nlog_prob += tf.reduce_sum(ce, axis = -1)\n",
    "        \n",
    "        fce = tf.nn.sigmoid_cross_entropy_with_logits(\n",
    "            labels=tf.cast(y, tf.float32), logits=self.output_layer(h_current[-1]))\n",
    "        nlog_prob += tf.reduce_sum(fce, axis = -1)\n",
    "            \n",
    "        return -1 * nlog_prob\n",
    "    \n",
    "    def generate_hmc_kernel(self, x, y, step_size = pow(1000, -1/4)):\n",
    "        \n",
    "        adaptive_hmc = tfp.mcmc.SimpleStepSizeAdaptation(tfp.mcmc.HamiltonianMonteCarlo(\n",
    "            target_log_prob_fn = lambda v: self.target_log_prob2(x, v, y),\n",
    "            num_leapfrog_steps = 2,\n",
    "            step_size = step_size),\n",
    "            num_adaptation_steps=int(100 * 0.8))\n",
    "        \n",
    "        return adaptive_hmc\n",
    "    \n",
    "    # new proposing-state method with HamiltonianMonteCarlo\n",
    "    def propose_new_state_hamiltonian(self, x, h, y, hmc_kernel, is_update_kernel = True):\n",
    "    \n",
    "        h_current = h\n",
    "        h_current = [tf.cast(h_i, dtype=tf.float32) for h_i in h_current]\n",
    "        h_current = tf.concat(h_current, axis = 1)\n",
    "\n",
    "        # run the chain (with burn-in)\n",
    "        num_burnin_steps = 0\n",
    "        num_results = 1\n",
    "\n",
    "        samples = tfp.mcmc.sample_chain(\n",
    "            num_results = num_results,\n",
    "            num_burnin_steps = num_burnin_steps,\n",
    "            current_state = h_current, # may need to be reshaped\n",
    "            kernel = hmc_kernel,\n",
    "            trace_fn = None,\n",
    "            return_final_kernel_results = True)\n",
    "    \n",
    "        # Generate new states of chains\n",
    "        #h_state = rerange(samples[0][0])\n",
    "        h_state = samples[0][0]\n",
    "        h_new = tf.split(h_state, self.hidden_layer_sizes, axis = 1) \n",
    "        \n",
    "        # Update the kernel if necesssary\n",
    "        if is_update_kernel:\n",
    "            new_step_size = samples[2].new_step_size.numpy()\n",
    "            ker_new = self.generate_hmc_kernel(x, y, new_step_size)\n",
    "            return(h_new, ker_new)\n",
    "        else:\n",
    "            return h_new\n",
    "    \n",
    "    def update_weights(self, x, h, y, lr = 0.1):\n",
    "        \n",
    "        optimizer = tf.keras.optimizers.SGD(learning_rate = lr)\n",
    "        with tf.GradientTape() as tape:\n",
    "            loss = -1 * tf.reduce_mean(self.target_log_prob(x, h, y))\n",
    "        \n",
    "        grads = tape.gradient(loss, self.trainable_weights)\n",
    "        optimizer.apply_gradients(zip(grads, self.trainable_weights))\n",
    "\n",
    "    def get_predictions(self, x):\n",
    "\n",
    "        logits = 0.0\n",
    "        for layer in self.fc_layers:\n",
    "            logits = layer(x)\n",
    "            x = tm.sigmoid(logits)\n",
    "        \n",
    "        logits = self.output_layer(x)\n",
    "        probs = tm.sigmoid(logits)\n",
    "        #print(probs)\n",
    "        labels = tf.cast(tm.greater(probs, 0.5), tf.int32)\n",
    "\n",
    "        return labels"
   ]
  },
  {
   "cell_type": "code",
   "execution_count": 25,
   "metadata": {},
   "outputs": [],
   "source": [
    "model = StochasticMLP(hidden_layer_sizes = [32], n_outputs=1)\n",
    "network = [model.call(x) for x, y in train_ds]\n",
    "kernels = [model.generate_hmc_kernel(x, y) for x, y in train_ds]"
   ]
  },
  {
   "cell_type": "code",
   "execution_count": 26,
   "metadata": {},
   "outputs": [
    {
     "name": "stdout",
     "output_type": "stream",
     "text": [
      "Step 0\n",
      "Step 20\n",
      "Step 40\n",
      "Step 60\n",
      "Step 80\n",
      "CPU times: user 10.9 s, sys: 33.1 ms, total: 11 s\n",
      "Wall time: 10.9 s\n"
     ]
    }
   ],
   "source": [
    "%%time\n",
    "\n",
    "burnin = 100\n",
    "for i in range(burnin):\n",
    "    \n",
    "    if(i % 20 == 0): print(\"Step %d\" % i)\n",
    "        \n",
    "    network_new = []\n",
    "    kernels_new = []\n",
    "    \n",
    "    res = [model.propose_new_state_hamiltonian(x, net, y, ker) \n",
    "               for (x, y), net, ker in zip(train_ds, network, kernels)]\n",
    "    \n",
    "    network_new, kernels_new = zip(*res)\n",
    "         \n",
    "    network = network_new\n",
    "    kernels = kernels_new"
   ]
  },
  {
   "cell_type": "code",
   "execution_count": 27,
   "metadata": {},
   "outputs": [
    {
     "name": "stdout",
     "output_type": "stream",
     "text": [
      "Epoch 1/50: - 0.7010s/step - loss: 225.5064 - accuracy: 0.4867\n",
      "Epoch 2/50: - 0.7048s/step - loss: 224.7839 - accuracy: 0.5067\n",
      "Epoch 3/50: - 0.6683s/step - loss: 224.1913 - accuracy: 0.6400\n",
      "Epoch 4/50: - 0.6519s/step - loss: 224.1180 - accuracy: 0.6467\n",
      "Epoch 5/50: - 0.6397s/step - loss: 223.8916 - accuracy: 0.7067\n",
      "Epoch 6/50: - 0.6319s/step - loss: 223.7557 - accuracy: 0.7533\n",
      "Epoch 7/50: - 0.6259s/step - loss: 223.5349 - accuracy: 0.7733\n",
      "Epoch 8/50: - 0.6211s/step - loss: 223.4559 - accuracy: 0.7800\n",
      "Epoch 9/50: - 0.6181s/step - loss: 223.3682 - accuracy: 0.8067\n",
      "Epoch 10/50: - 0.6227s/step - loss: 223.1080 - accuracy: 0.8133\n",
      "Epoch 11/50: - 0.6300s/step - loss: 223.0678 - accuracy: 0.8133\n",
      "Epoch 12/50: - 0.6281s/step - loss: 223.0853 - accuracy: 0.8200\n",
      "Epoch 13/50: - 0.6259s/step - loss: 223.0149 - accuracy: 0.8267\n",
      "Epoch 14/50: - 0.6235s/step - loss: 222.8353 - accuracy: 0.8200\n",
      "Epoch 15/50: - 0.6212s/step - loss: 222.6041 - accuracy: 0.8200\n",
      "Epoch 16/50: - 0.6215s/step - loss: 222.8449 - accuracy: 0.8200\n",
      "Epoch 17/50: - 0.6226s/step - loss: 222.6900 - accuracy: 0.8067\n",
      "Epoch 18/50: - 0.6215s/step - loss: 222.5258 - accuracy: 0.8067\n",
      "Epoch 19/50: - 0.6204s/step - loss: 222.5722 - accuracy: 0.8200\n",
      "Epoch 20/50: - 0.6209s/step - loss: 222.4166 - accuracy: 0.8200\n",
      "Epoch 21/50: - 0.6197s/step - loss: 222.2488 - accuracy: 0.8400\n",
      "Epoch 22/50: - 0.6185s/step - loss: 222.4018 - accuracy: 0.8333\n",
      "Epoch 23/50: - 0.6174s/step - loss: 222.3510 - accuracy: 0.8333\n",
      "Epoch 24/50: - 0.6164s/step - loss: 222.4490 - accuracy: 0.8400\n",
      "Epoch 25/50: - 0.6157s/step - loss: 222.3584 - accuracy: 0.8333\n",
      "Epoch 26/50: - 0.6147s/step - loss: 222.3799 - accuracy: 0.8467\n",
      "Epoch 27/50: - 0.6154s/step - loss: 222.3042 - accuracy: 0.8400\n",
      "Epoch 28/50: - 0.6150s/step - loss: 222.3738 - accuracy: 0.8467\n",
      "Epoch 29/50: - 0.6156s/step - loss: 222.2690 - accuracy: 0.8400\n",
      "Epoch 30/50: - 0.6148s/step - loss: 222.2361 - accuracy: 0.8400\n",
      "Epoch 31/50: - 0.6143s/step - loss: 222.1389 - accuracy: 0.8400\n",
      "Epoch 32/50: - 0.6137s/step - loss: 221.9687 - accuracy: 0.8400\n",
      "Epoch 33/50: - 0.6131s/step - loss: 221.9973 - accuracy: 0.8333\n",
      "Epoch 34/50: - 0.6124s/step - loss: 221.8924 - accuracy: 0.8467\n",
      "Epoch 35/50: - 0.6120s/step - loss: 221.9853 - accuracy: 0.8333\n",
      "Epoch 36/50: - 0.6116s/step - loss: 221.9550 - accuracy: 0.8400\n",
      "Epoch 37/50: - 0.6110s/step - loss: 222.0174 - accuracy: 0.8333\n",
      "Epoch 38/50: - 0.6104s/step - loss: 222.0633 - accuracy: 0.8333\n",
      "Epoch 39/50: - 0.6100s/step - loss: 221.9782 - accuracy: 0.8400\n",
      "Epoch 40/50: - 0.6096s/step - loss: 221.9828 - accuracy: 0.8333\n",
      "Epoch 41/50: - 0.6095s/step - loss: 221.7336 - accuracy: 0.8467\n",
      "Epoch 42/50: - 0.6093s/step - loss: 221.6946 - accuracy: 0.8467\n",
      "Epoch 43/50: - 0.6089s/step - loss: 221.8064 - accuracy: 0.8467\n",
      "Epoch 44/50: - 0.6085s/step - loss: 221.9567 - accuracy: 0.8467\n",
      "Epoch 45/50: - 0.6082s/step - loss: 221.9627 - accuracy: 0.8467\n",
      "Epoch 46/50: - 0.6078s/step - loss: 221.8717 - accuracy: 0.8333\n",
      "Epoch 47/50: - 0.6076s/step - loss: 221.7514 - accuracy: 0.8333\n",
      "Epoch 48/50: - 0.6073s/step - loss: 221.7434 - accuracy: 0.8333\n",
      "Epoch 49/50: - 0.6070s/step - loss: 221.7051 - accuracy: 0.8267\n",
      "Epoch 50/50: - 0.6069s/step - loss: 221.6910 - accuracy: 0.8333\n"
     ]
    }
   ],
   "source": [
    "epochs = 50\n",
    "\n",
    "loss_ls = []\n",
    "acc_ls = []\n",
    "start_time = time.time()\n",
    "\n",
    "for epoch in range(epochs):\n",
    "    \n",
    "    loss = 0.0\n",
    "    acc = 0.0\n",
    "    for bs, (x, y) in enumerate(train_ds):\n",
    "        \n",
    "        # only one mini-batch\n",
    "        model.update_weights(x, network[bs], y, 0.1)\n",
    "        res = [model.propose_new_state_hamiltonian(x, net, y, ker, is_update_kernel = False) \\\n",
    "                   for (x, y), net, ker in zip(train_ds, network, kernels)]\n",
    "        network = res\n",
    "        loss += -1 * tf.reduce_mean(model.target_log_prob(x, network[bs], y))\n",
    "    \n",
    "    preds = [model.get_predictions(images) for images, labels in train_ds]\n",
    "    train_acc = accuracy_score(np.concatenate(preds), y_train)\n",
    "    loss_ls.append(loss)\n",
    "    acc_ls.append(train_acc)\n",
    "    \n",
    "    print(\"Epoch %d/%d: - %.4fs/step - loss: %.4f - accuracy: %.4f\" \n",
    "          % (epoch + 1, epochs, (time.time() - start_time) / (epoch + 1), loss, train_acc))\n",
    "\n",
    "print(\"Time of HMC: \", time.time() - start.time())"
   ]
  },
  {
   "cell_type": "code",
   "execution_count": 38,
   "metadata": {},
   "outputs": [],
   "source": [
    "fig, ax = plt.subplots()\n",
    "\n",
    "ax.plot(history.history['accuracy'], label = 'SGD')\n",
    "ax.plot(list(range(epochs)), acc_ls, label = 'HMC')\n",
    "ax.legend()\n",
    "fig.savefig('test.png')\n",
    "plt.close(fig)"
   ]
  },
  {
   "cell_type": "code",
   "execution_count": 39,
   "metadata": {},
   "outputs": [],
   "source": [
    "with open('test.npy', 'wb') as f:\n",
    "    np.save(f, np.array(history.history['loss']))\n",
    "    np.save(f, np.array(loss_ls))"
   ]
  },
  {
   "cell_type": "code",
   "execution_count": 40,
   "metadata": {},
   "outputs": [
    {
     "name": "stdout",
     "output_type": "stream",
     "text": [
      "[0.68886155 0.65531754 0.64796519 0.63601822 0.62729144 0.61850929\n",
      " 0.61403108 0.60259217 0.5955686  0.58727962 0.58370274 0.57280195\n",
      " 0.56690615 0.55869997 0.55236012 0.54682732 0.54211003 0.53354514\n",
      " 0.52615088 0.52070206 0.51571268 0.50972438 0.50169265 0.49734786\n",
      " 0.49358195 0.48949718 0.48219517 0.4754979  0.47144607 0.46656489\n",
      " 0.46324012 0.45917505 0.45336166 0.44998142 0.44829366 0.44253591\n",
      " 0.43979976 0.4379302  0.43326548 0.43174219 0.42744583 0.42364708\n",
      " 0.42048156 0.41884026 0.41520405 0.41287744 0.414583   0.40829077\n",
      " 0.40633067 0.40460077]\n",
      "[225.50641 224.78394 224.19128 224.11801 223.89165 223.75566 223.53494\n",
      " 223.45593 223.36818 223.108   223.0678  223.08534 223.01492 222.83531\n",
      " 222.60413 222.84492 222.68996 222.52582 222.57217 222.41656 222.24884\n",
      " 222.40184 222.35101 222.44897 222.35843 222.3799  222.30417 222.3738\n",
      " 222.26898 222.23613 222.1389  221.96869 221.99731 221.8924  221.9853\n",
      " 221.95499 222.01736 222.06331 221.97821 221.98276 221.73361 221.69456\n",
      " 221.80635 221.95668 221.9627  221.87167 221.7514  221.74342 221.70514\n",
      " 221.69104]\n"
     ]
    }
   ],
   "source": [
    "with open('test.npy', 'rb') as f:\n",
    "    a = np.load(f)\n",
    "    b = np.load(f)\n",
    "print(a)\n",
    "print(b)"
   ]
  },
  {
   "cell_type": "code",
   "execution_count": null,
   "metadata": {},
   "outputs": [],
   "source": []
  }
 ],
 "metadata": {
  "kernelspec": {
   "display_name": "Python 3 (ipykernel)",
   "language": "python",
   "name": "python3"
  },
  "language_info": {
   "codemirror_mode": {
    "name": "ipython",
    "version": 3
   },
   "file_extension": ".py",
   "mimetype": "text/x-python",
   "name": "python",
   "nbconvert_exporter": "python",
   "pygments_lexer": "ipython3",
   "version": "3.8.2"
  }
 },
 "nbformat": 4,
 "nbformat_minor": 4
}
