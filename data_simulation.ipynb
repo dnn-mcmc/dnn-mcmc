{
 "cells": [
  {
   "cell_type": "code",
   "execution_count": 29,
   "metadata": {},
   "outputs": [],
   "source": [
    "import tensorflow as tf\n",
    "import numpy as np\n",
    "import tensorflow_probability as tfp\n",
    "import tensorflow.compat.v1 as tf\n",
    "tf.disable_v2_behavior() "
   ]
  },
  {
   "cell_type": "code",
   "execution_count": 2,
   "metadata": {},
   "outputs": [],
   "source": [
    "X = np.array([[0,0],[0,1],[1,0],[1,1]])\n",
    "Y = np.array([[0],[1],[1],[0]])"
   ]
  },
  {
   "cell_type": "code",
   "execution_count": 18,
   "metadata": {},
   "outputs": [],
   "source": [
    "# W matrix\n",
    "W1 = tf.Variable([[0.01, -0.01], [-0.01, 0.01]], shape = [2,2])\n",
    "W2 = tf.Variable([[-0.01], [0.01]], shape=[2,1])\n",
    " \n",
    "# Biases\n",
    "B1 = tf.Variable([0.0, 0.0], shape=[2])\n",
    "B2 = tf.Variable([0.0], shape=1)"
   ]
  },
  {
   "cell_type": "code",
   "execution_count": 35,
   "metadata": {},
   "outputs": [],
   "source": [
    "weight_input = np.array([[0.01, -0.01], [-0.01, 0.01]])\n",
    "weight_input2 = np.array([[-0.01], [0.01]])\n",
    "w1 = tf.keras.initializers.constant(weight_input)\n",
    "w2 = tf.keras.initializers.constant(weight_input2)"
   ]
  },
  {
   "cell_type": "code",
   "execution_count": 36,
   "metadata": {},
   "outputs": [],
   "source": [
    "from tensorflow.keras.layers import Flatten, Dense\n",
    "from tensorflow.keras.models import Sequential, Model\n",
    "\n",
    "model = Sequential()\n",
    "model.add(Dense(2, input_dim=2, activation='relu', kernel_initializer = w1))\n",
    "model.add(Dense(1, activation='sigmoid', kernel_initializer = w2))"
   ]
  },
  {
   "cell_type": "code",
   "execution_count": 37,
   "metadata": {},
   "outputs": [
    {
     "name": "stdout",
     "output_type": "stream",
     "text": [
      "Model: \"sequential_8\"\n",
      "_________________________________________________________________\n",
      "Layer (type)                 Output Shape              Param #   \n",
      "=================================================================\n",
      "dense_8 (Dense)              (None, 2)                 6         \n",
      "_________________________________________________________________\n",
      "dense_9 (Dense)              (None, 1)                 3         \n",
      "=================================================================\n",
      "Total params: 9\n",
      "Trainable params: 9\n",
      "Non-trainable params: 0\n",
      "_________________________________________________________________\n"
     ]
    }
   ],
   "source": [
    "model.compile(loss='mean_squared_error',\n",
    "              optimizer='adam',\n",
    "              metrics=['binary_accuracy'])\n",
    "model.summary()"
   ]
  },
  {
   "cell_type": "code",
   "execution_count": 50,
   "metadata": {},
   "outputs": [
    {
     "data": {
      "text/plain": [
       "[<tf.Variable 'dense_8/kernel:0' shape=(2, 2) dtype=float32>,\n",
       " <tf.Variable 'dense_8/bias:0' shape=(2,) dtype=float32>,\n",
       " <tf.Variable 'dense_9/kernel:0' shape=(2, 1) dtype=float32>,\n",
       " <tf.Variable 'dense_9/bias:0' shape=(1,) dtype=float32>]"
      ]
     },
     "execution_count": 50,
     "metadata": {},
     "output_type": "execute_result"
    }
   ],
   "source": [
    "model.trainable_weights"
   ]
  },
  {
   "cell_type": "code",
   "execution_count": 48,
   "metadata": {},
   "outputs": [
    {
     "name": "stdout",
     "output_type": "stream",
     "text": [
      "Train on 4 samples\n",
      "Epoch 1/50\n",
      "4/4 [==============================] - 0s 663us/sample - loss: 0.2506 - binary_accuracy: 0.5000\n",
      "Epoch 2/50\n",
      "4/4 [==============================] - 0s 556us/sample - loss: 0.2506 - binary_accuracy: 0.5000\n",
      "Epoch 3/50\n",
      "4/4 [==============================] - 0s 732us/sample - loss: 0.2506 - binary_accuracy: 0.5000\n",
      "Epoch 4/50\n",
      "4/4 [==============================] - 0s 536us/sample - loss: 0.2506 - binary_accuracy: 0.5000\n",
      "Epoch 5/50\n",
      "4/4 [==============================] - 0s 580us/sample - loss: 0.2506 - binary_accuracy: 0.5000\n",
      "Epoch 6/50\n",
      "4/4 [==============================] - 0s 598us/sample - loss: 0.2506 - binary_accuracy: 0.5000\n",
      "Epoch 7/50\n",
      "4/4 [==============================] - 0s 2ms/sample - loss: 0.2506 - binary_accuracy: 0.5000\n",
      "Epoch 8/50\n",
      "4/4 [==============================] - 0s 546us/sample - loss: 0.2506 - binary_accuracy: 0.5000\n",
      "Epoch 9/50\n",
      "4/4 [==============================] - 0s 792us/sample - loss: 0.2506 - binary_accuracy: 0.5000\n",
      "Epoch 10/50\n",
      "4/4 [==============================] - 0s 990us/sample - loss: 0.2506 - binary_accuracy: 0.5000\n",
      "Epoch 11/50\n",
      "4/4 [==============================] - 0s 915us/sample - loss: 0.2506 - binary_accuracy: 0.5000\n",
      "Epoch 12/50\n",
      "4/4 [==============================] - 0s 850us/sample - loss: 0.2506 - binary_accuracy: 0.5000\n",
      "Epoch 13/50\n",
      "4/4 [==============================] - 0s 1ms/sample - loss: 0.2506 - binary_accuracy: 0.5000\n",
      "Epoch 14/50\n",
      "4/4 [==============================] - 0s 795us/sample - loss: 0.2506 - binary_accuracy: 0.5000\n",
      "Epoch 15/50\n",
      "4/4 [==============================] - 0s 869us/sample - loss: 0.2506 - binary_accuracy: 0.5000\n",
      "Epoch 16/50\n",
      "4/4 [==============================] - 0s 2ms/sample - loss: 0.2506 - binary_accuracy: 0.5000\n",
      "Epoch 17/50\n",
      "4/4 [==============================] - 0s 640us/sample - loss: 0.2506 - binary_accuracy: 0.5000\n",
      "Epoch 18/50\n",
      "4/4 [==============================] - 0s 1ms/sample - loss: 0.2506 - binary_accuracy: 0.5000\n",
      "Epoch 19/50\n",
      "4/4 [==============================] - 0s 864us/sample - loss: 0.2506 - binary_accuracy: 0.5000\n",
      "Epoch 20/50\n",
      "4/4 [==============================] - 0s 1ms/sample - loss: 0.2506 - binary_accuracy: 0.5000\n",
      "Epoch 21/50\n",
      "4/4 [==============================] - 0s 1ms/sample - loss: 0.2506 - binary_accuracy: 0.5000\n",
      "Epoch 22/50\n",
      "4/4 [==============================] - 0s 835us/sample - loss: 0.2506 - binary_accuracy: 0.5000\n",
      "Epoch 23/50\n",
      "4/4 [==============================] - 0s 1ms/sample - loss: 0.2506 - binary_accuracy: 0.5000\n",
      "Epoch 24/50\n",
      "4/4 [==============================] - 0s 922us/sample - loss: 0.2506 - binary_accuracy: 0.5000\n",
      "Epoch 25/50\n",
      "4/4 [==============================] - 0s 1ms/sample - loss: 0.2506 - binary_accuracy: 0.5000\n",
      "Epoch 26/50\n",
      "4/4 [==============================] - 0s 773us/sample - loss: 0.2506 - binary_accuracy: 0.5000\n",
      "Epoch 27/50\n",
      "4/4 [==============================] - 0s 1ms/sample - loss: 0.2506 - binary_accuracy: 0.5000\n",
      "Epoch 28/50\n",
      "4/4 [==============================] - 0s 599us/sample - loss: 0.2506 - binary_accuracy: 0.5000\n",
      "Epoch 29/50\n",
      "4/4 [==============================] - 0s 568us/sample - loss: 0.2506 - binary_accuracy: 0.5000\n",
      "Epoch 30/50\n",
      "4/4 [==============================] - 0s 1ms/sample - loss: 0.2506 - binary_accuracy: 0.5000\n",
      "Epoch 31/50\n",
      "4/4 [==============================] - 0s 566us/sample - loss: 0.2506 - binary_accuracy: 0.5000\n",
      "Epoch 32/50\n",
      "4/4 [==============================] - 0s 489us/sample - loss: 0.2506 - binary_accuracy: 0.5000\n",
      "Epoch 33/50\n",
      "4/4 [==============================] - 0s 642us/sample - loss: 0.2506 - binary_accuracy: 0.5000\n",
      "Epoch 34/50\n",
      "4/4 [==============================] - 0s 825us/sample - loss: 0.2506 - binary_accuracy: 0.5000\n",
      "Epoch 35/50\n",
      "4/4 [==============================] - 0s 663us/sample - loss: 0.2506 - binary_accuracy: 0.5000\n",
      "Epoch 36/50\n",
      "4/4 [==============================] - 0s 739us/sample - loss: 0.2506 - binary_accuracy: 0.5000\n",
      "Epoch 37/50\n",
      "4/4 [==============================] - 0s 1ms/sample - loss: 0.2506 - binary_accuracy: 0.5000\n",
      "Epoch 38/50\n",
      "4/4 [==============================] - 0s 942us/sample - loss: 0.2506 - binary_accuracy: 0.5000\n",
      "Epoch 39/50\n",
      "4/4 [==============================] - 0s 914us/sample - loss: 0.2506 - binary_accuracy: 0.5000\n",
      "Epoch 40/50\n",
      "4/4 [==============================] - 0s 692us/sample - loss: 0.2506 - binary_accuracy: 0.5000\n",
      "Epoch 41/50\n",
      "4/4 [==============================] - 0s 795us/sample - loss: 0.2506 - binary_accuracy: 0.5000\n",
      "Epoch 42/50\n",
      "4/4 [==============================] - 0s 771us/sample - loss: 0.2506 - binary_accuracy: 0.5000\n",
      "Epoch 43/50\n",
      "4/4 [==============================] - 0s 1ms/sample - loss: 0.2506 - binary_accuracy: 0.5000\n",
      "Epoch 44/50\n",
      "4/4 [==============================] - 0s 892us/sample - loss: 0.2506 - binary_accuracy: 0.5000\n",
      "Epoch 45/50\n",
      "4/4 [==============================] - 0s 2ms/sample - loss: 0.2506 - binary_accuracy: 0.5000\n",
      "Epoch 46/50\n",
      "4/4 [==============================] - 0s 1ms/sample - loss: 0.2506 - binary_accuracy: 0.5000\n",
      "Epoch 47/50\n",
      "4/4 [==============================] - 0s 953us/sample - loss: 0.2506 - binary_accuracy: 0.5000\n",
      "Epoch 48/50\n",
      "4/4 [==============================] - 0s 935us/sample - loss: 0.2506 - binary_accuracy: 0.5000\n",
      "Epoch 49/50\n",
      "4/4 [==============================] - 0s 1ms/sample - loss: 0.2506 - binary_accuracy: 0.5000\n",
      "Epoch 50/50\n",
      "4/4 [==============================] - 0s 827us/sample - loss: 0.2506 - binary_accuracy: 0.5000\n"
     ]
    },
    {
     "data": {
      "text/plain": [
       "<tensorflow.python.keras.callbacks.History at 0x7fe75cc7ea20>"
      ]
     },
     "execution_count": 48,
     "metadata": {},
     "output_type": "execute_result"
    }
   ],
   "source": [
    "model.fit(X, Y, epochs=50)"
   ]
  },
  {
   "cell_type": "code",
   "execution_count": 44,
   "metadata": {},
   "outputs": [
    {
     "name": "stdout",
     "output_type": "stream",
     "text": [
      "[<tf.Variable 'dense_9/kernel:0' shape=(2, 1) dtype=float32>, <tf.Variable 'dense_9/bias:0' shape=(1,) dtype=float32>]\n"
     ]
    }
   ],
   "source": [
    "print(model.layers[1].weights)"
   ]
  }
 ],
 "metadata": {
  "kernelspec": {
   "display_name": "Python 3",
   "language": "python",
   "name": "python3"
  },
  "language_info": {
   "codemirror_mode": {
    "name": "ipython",
    "version": 3
   },
   "file_extension": ".py",
   "mimetype": "text/x-python",
   "name": "python",
   "nbconvert_exporter": "python",
   "pygments_lexer": "ipython3",
   "version": "3.6.10"
  }
 },
 "nbformat": 4,
 "nbformat_minor": 4
}
