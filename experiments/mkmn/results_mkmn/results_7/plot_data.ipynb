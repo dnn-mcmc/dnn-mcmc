{
 "cells": [
  {
   "cell_type": "code",
   "execution_count": 1,
   "id": "48796d2e",
   "metadata": {},
   "outputs": [],
   "source": [
    "import numpy as np\n",
    "import matplotlib.pyplot as plt"
   ]
  },
  {
   "cell_type": "code",
   "execution_count": 2,
   "id": "9d96c1ad",
   "metadata": {},
   "outputs": [
    {
     "name": "stderr",
     "output_type": "stream",
     "text": [
      "2022-03-29 15:27:05.481673: I tensorflow/core/platform/cpu_feature_guard.cc:142] This TensorFlow binary is optimized with oneAPI Deep Neural Network Library (oneDNN) to use the following CPU instructions in performance-critical operations:  AVX2 FMA\n",
      "To enable them in other operations, rebuild TensorFlow with the appropriate compiler flags.\n"
     ]
    }
   ],
   "source": [
    "data = np.load(\"resdata_7.npy\", allow_pickle=True)"
   ]
  },
  {
   "cell_type": "code",
   "execution_count": 5,
   "id": "0b343aa8",
   "metadata": {},
   "outputs": [
    {
     "data": {
      "text/plain": [
       "150228.09724879265"
      ]
     },
     "execution_count": 5,
     "metadata": {},
     "output_type": "execute_result"
    }
   ],
   "source": [
    "data[2][0]['time']"
   ]
  },
  {
   "cell_type": "code",
   "execution_count": 24,
   "id": "7dc6e5ba",
   "metadata": {},
   "outputs": [],
   "source": [
    "res_bp = data[0][0]\n",
    "res_hmc = data[1][0]\n",
    "res_gibbs = data[2][0]\n",
    "res_all = [res_bp, res_hmc, res_gibbs]"
   ]
  },
  {
   "cell_type": "code",
   "execution_count": 27,
   "id": "bbaf7420",
   "metadata": {},
   "outputs": [],
   "source": [
    "methods = ['bp', 'hmc', 'gibbs']\n",
    "metrics = ['train_acc', 'train_loss', 'val_acc', 'val_loss']\n",
    "\n",
    "plt.style.use('seaborn')\n",
    "for metric in metrics:\n",
    "    for i, method in enumerate(methods):\n",
    "        plt.plot(res_all[i]['history'][metric], label = method)\n",
    "    plt.title(metric)\n",
    "    plt.xlabel(\"epochs\")\n",
    "    plt.ylabel(metric.split(\"_\")[1])\n",
    "    plt.legend()\n",
    "    plt.savefig(\"res_\" + metric + '.pdf')\n",
    "    plt.close()"
   ]
  },
  {
   "cell_type": "code",
   "execution_count": 6,
   "id": "d324bdb3",
   "metadata": {},
   "outputs": [
    {
     "data": {
      "text/plain": [
       "[0, 1, 2, 3]"
      ]
     },
     "execution_count": 6,
     "metadata": {},
     "output_type": "execute_result"
    }
   ],
   "source": [
    "a=list(range(10))\n",
    "a[:4]"
   ]
  },
  {
   "cell_type": "code",
   "execution_count": null,
   "id": "b74eaf8a",
   "metadata": {},
   "outputs": [],
   "source": []
  }
 ],
 "metadata": {
  "kernelspec": {
   "display_name": "Python 3 (ipykernel)",
   "language": "python",
   "name": "python3"
  },
  "language_info": {
   "codemirror_mode": {
    "name": "ipython",
    "version": 3
   },
   "file_extension": ".py",
   "mimetype": "text/x-python",
   "name": "python",
   "nbconvert_exporter": "python",
   "pygments_lexer": "ipython3",
   "version": "3.8.2"
  }
 },
 "nbformat": 4,
 "nbformat_minor": 5
}
