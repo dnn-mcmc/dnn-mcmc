{
 "cells": [
  {
   "cell_type": "code",
   "execution_count": 2,
   "id": "991d544b",
   "metadata": {},
   "outputs": [],
   "source": [
    "import numpy as np"
   ]
  },
  {
   "cell_type": "code",
   "execution_count": 3,
   "id": "b38a6ef6",
   "metadata": {
    "scrolled": true
   },
   "outputs": [
    {
     "name": "stderr",
     "output_type": "stream",
     "text": [
      "2022-05-17 16:16:02.943041: I tensorflow/core/platform/cpu_feature_guard.cc:142] This TensorFlow binary is optimized with oneAPI Deep Neural Network Library (oneDNN) to use the following CPU instructions in performance-critical operations:  AVX2 FMA\n",
      "To enable them in other operations, rebuild TensorFlow with the appropriate compiler flags.\n"
     ]
    }
   ],
   "source": [
    "res = np.load(\"../mkmn/results_mkmn/results_9/mkmn_res9.npy\", allow_pickle = True)"
   ]
  },
  {
   "cell_type": "code",
   "execution_count": 6,
   "id": "862ce3d5",
   "metadata": {},
   "outputs": [],
   "source": [
    "sgd = res[0]\n",
    "hmc = res[1]\n",
    "gibbs = res[2]"
   ]
  },
  {
   "cell_type": "code",
   "execution_count": 7,
   "id": "8de042f4",
   "metadata": {},
   "outputs": [
    {
     "name": "stdout",
     "output_type": "stream",
     "text": [
      "SGD: acc=0.800000011920929, loss=0.37530356645584106\n",
      "HMC: acc=0.805, loss=0.5131201\n",
      "Gibbs: acc=0.805, loss=0.6424516\n"
     ]
    }
   ],
   "source": [
    "sgd_val_acc = sgd['history']['val_acc'][-1]\n",
    "sgd_val_loss = sgd['history']['val_loss'][-1]\n",
    "print(\"SGD: acc=%s, loss=%s\" %(sgd_val_acc, sgd_val_loss))\n",
    "\n",
    "hmc_val_acc = hmc['history']['val_acc'][-1]\n",
    "hmc_val_loss = hmc['history']['val_loss'][-1].numpy()\n",
    "print(\"HMC: acc=%s, loss=%s\" %(hmc_val_acc, hmc_val_loss))\n",
    "\n",
    "gibbs_val_acc = gibbs['history']['val_acc'][-1]\n",
    "gibbs_val_loss = gibbs['history']['val_loss'][-1].numpy()\n",
    "print(\"Gibbs: acc=%s, loss=%s\" %(gibbs_val_acc, gibbs_val_loss))"
   ]
  },
  {
   "cell_type": "code",
   "execution_count": null,
   "id": "4e2cafc3",
   "metadata": {},
   "outputs": [],
   "source": []
  }
 ],
 "metadata": {
  "kernelspec": {
   "display_name": "Python 3 (ipykernel)",
   "language": "python",
   "name": "python3"
  },
  "language_info": {
   "codemirror_mode": {
    "name": "ipython",
    "version": 3
   },
   "file_extension": ".py",
   "mimetype": "text/x-python",
   "name": "python",
   "nbconvert_exporter": "python",
   "pygments_lexer": "ipython3",
   "version": "3.8.2"
  }
 },
 "nbformat": 4,
 "nbformat_minor": 5
}
