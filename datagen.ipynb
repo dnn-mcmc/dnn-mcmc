{
 "cells": [
  {
   "cell_type": "code",
   "execution_count": 3,
   "metadata": {},
   "outputs": [],
   "source": [
    "# use simple model and simulate data to test the code\n",
    "import tensorflow as tf\n",
    "import numpy as np\n",
    "from tensorflow import keras\n",
    "from tensorflow.keras import layers\n",
    "from tensorflow.keras import initializers\n",
    "from tensorflow.keras import Model\n",
    "from tensorflow.keras.layers import Flatten, Dense"
   ]
  },
  {
   "cell_type": "code",
   "execution_count": 2,
   "metadata": {},
   "outputs": [
    {
     "name": "stdout",
     "output_type": "stream",
     "text": [
      "Model: \"sequential\"\n",
      "_________________________________________________________________\n",
      "Layer (type)                 Output Shape              Param #   \n",
      "=================================================================\n",
      "dense (Dense)                (None, 5)                 30        \n",
      "_________________________________________________________________\n",
      "dense_1 (Dense)              (None, 5)                 30        \n",
      "_________________________________________________________________\n",
      "dense_2 (Dense)              (None, 1)                 6         \n",
      "=================================================================\n",
      "Total params: 66\n",
      "Trainable params: 66\n",
      "Non-trainable params: 0\n",
      "_________________________________________________________________\n"
     ]
    }
   ],
   "source": [
    "# simulate data\n",
    "initializer = initializers.RandomUniform(minval=-2., maxval=2.)\n",
    "model_sil = keras.Sequential(\n",
    "    [\n",
    "        keras.Input(shape=(5,)),\n",
    "        layers.Dense(5, activation='tanh'),\n",
    "        #layers.Dense(10, activation=\"sigmoid\", kernel_initializer='glorot_uniform'),\n",
    "        layers.Dense(5, activation='tanh'),\n",
    "        #layers.Dense(1000, activation=\"sigmoid\", kernel_initializer='glorot_uniform'),\n",
    "        layers.Dense(1, activation=\"sigmoid\", kernel_initializer='glorot_uniform')\n",
    "    ]\n",
    ")\n",
    "\n",
    "model_sil.summary()"
   ]
  },
  {
   "cell_type": "code",
   "execution_count": 3,
   "metadata": {},
   "outputs": [
    {
     "data": {
      "text/plain": [
       "[array([[-0.03181505, -0.29496625, -0.1826523 , -0.17110789, -0.1290273 ],\n",
       "        [ 0.49242675, -0.50602317, -0.2874465 ,  0.22966921,  0.61879694],\n",
       "        [ 0.03926867,  0.05115497,  0.3630613 , -0.3642165 ,  0.42776704],\n",
       "        [-0.38435218,  0.62644947,  0.34494114, -0.6458128 ,  0.52241397],\n",
       "        [-0.04669535, -0.5371206 ,  0.14296389, -0.62401265,  0.38713145]],\n",
       "       dtype=float32),\n",
       " array([0., 0., 0., 0., 0.], dtype=float32),\n",
       " array([[-0.72497624, -0.61719006, -0.2052536 , -0.5281552 , -0.4796866 ],\n",
       "        [-0.05740094,  0.03633362, -0.6047278 ,  0.5440091 , -0.27685797],\n",
       "        [ 0.7310597 ,  0.35987294, -0.20840847,  0.77059567,  0.40918422],\n",
       "        [-0.02991992,  0.39067626, -0.17683142, -0.01015508,  0.10029674],\n",
       "        [ 0.30753672, -0.6691123 ,  0.23325694, -0.41835976, -0.27896333]],\n",
       "       dtype=float32),\n",
       " array([0., 0., 0., 0., 0.], dtype=float32),\n",
       " array([[-0.29849648],\n",
       "        [-0.69295573],\n",
       "        [ 0.52453494],\n",
       "        [ 0.42195272],\n",
       "        [ 0.4160397 ]], dtype=float32),\n",
       " array([0.], dtype=float32)]"
      ]
     },
     "execution_count": 3,
     "metadata": {},
     "output_type": "execute_result"
    }
   ],
   "source": [
    "model_sil.get_weights()"
   ]
  },
  {
   "cell_type": "code",
   "execution_count": 6,
   "metadata": {},
   "outputs": [
    {
     "name": "stdout",
     "output_type": "stream",
     "text": [
      "[[-0.2005539   0.53977676  1.15897269 -1.08190609 -0.73337221]\n",
      " [-0.17033051 -1.23041316 -0.11680444  0.49305817 -0.65803933]\n",
      " [-0.36680738 -0.42298462  0.55971521  1.36372174 -0.42587423]\n",
      " [ 0.2418414  -0.28214645 -0.18894039  0.74359321 -0.91053086]\n",
      " [-0.59242727 -0.43759613  0.53355006 -0.18793894 -0.75499497]\n",
      " [ 1.22662592 -0.53538284  0.69556242 -1.73187526  1.37258738]\n",
      " [ 0.53306775  0.80922895  0.94110106 -1.23331496 -2.79451847]\n",
      " [-2.49602801 -0.43566325 -1.98261163  1.42694895 -0.20047027]\n",
      " [-0.01825811  0.872897    0.23697962  0.05049487 -0.76889097]\n",
      " [ 0.61064762  1.19946725 -1.25929003 -0.41979978 -1.79907538]]\n"
     ]
    },
    {
     "ename": "NameError",
     "evalue": "name 'model_sil' is not defined",
     "output_type": "error",
     "traceback": [
      "\u001b[0;31m---------------------------------------------------------------------------\u001b[0m",
      "\u001b[0;31mNameError\u001b[0m                                 Traceback (most recent call last)",
      "\u001b[0;32m<ipython-input-6-f40b44c76e04>\u001b[0m in \u001b[0;36m<module>\u001b[0;34m\u001b[0m\n\u001b[1;32m      4\u001b[0m \u001b[0mprint\u001b[0m\u001b[0;34m(\u001b[0m\u001b[0mx_train\u001b[0m\u001b[0;34m)\u001b[0m\u001b[0;34m\u001b[0m\u001b[0;34m\u001b[0m\u001b[0m\n\u001b[1;32m      5\u001b[0m \u001b[0;34m\u001b[0m\u001b[0m\n\u001b[0;32m----> 6\u001b[0;31m \u001b[0my_cont\u001b[0m \u001b[0;34m=\u001b[0m \u001b[0mmodel_sil\u001b[0m\u001b[0;34m.\u001b[0m\u001b[0mpredict\u001b[0m\u001b[0;34m(\u001b[0m\u001b[0mx_train\u001b[0m\u001b[0;34m)\u001b[0m\u001b[0;34m\u001b[0m\u001b[0;34m\u001b[0m\u001b[0m\n\u001b[0m\u001b[1;32m      7\u001b[0m \u001b[0my\u001b[0m \u001b[0;34m=\u001b[0m \u001b[0;34m(\u001b[0m\u001b[0my_cont\u001b[0m \u001b[0;34m>\u001b[0m \u001b[0;36m0.5\u001b[0m\u001b[0;34m)\u001b[0m\u001b[0;34m.\u001b[0m\u001b[0mastype\u001b[0m\u001b[0;34m(\u001b[0m\u001b[0;34m\"int32\"\u001b[0m\u001b[0;34m)\u001b[0m\u001b[0;34m\u001b[0m\u001b[0;34m\u001b[0m\u001b[0m\n\u001b[1;32m      8\u001b[0m \u001b[0mprint\u001b[0m\u001b[0;34m(\u001b[0m\u001b[0my\u001b[0m\u001b[0;34m)\u001b[0m\u001b[0;34m\u001b[0m\u001b[0;34m\u001b[0m\u001b[0m\n",
      "\u001b[0;31mNameError\u001b[0m: name 'model_sil' is not defined"
     ]
    }
   ],
   "source": [
    "import random\n",
    "random.seed(1234)\n",
    "x_train = np.random.randn(10, 5)\n",
    "print(x_train)\n",
    "\n",
    "y_cont = model_sil.predict(x_train)\n",
    "y = (y_cont > 0.5).astype(\"int32\")\n",
    "print(y)\n",
    "#print(np.unique(y, return_counts=True))"
   ]
  },
  {
   "cell_type": "code",
   "execution_count": 7,
   "metadata": {
    "scrolled": true
   },
   "outputs": [],
   "source": [
    "with open('testdata.npy','wb') as f:\n",
    "    np.save(f, x_train)\n",
    "    np.save(f, y_train)"
   ]
  },
  {
   "cell_type": "code",
   "execution_count": 9,
   "metadata": {},
   "outputs": [],
   "source": [
    "with open('testdata.npy','rb') as f:\n",
    "    x = np.load(f)\n",
    "    y = np.load(f)"
   ]
  },
  {
   "cell_type": "code",
   "execution_count": 10,
   "metadata": {},
   "outputs": [
    {
     "name": "stdout",
     "output_type": "stream",
     "text": [
      "(array([0, 1], dtype=int32), array([268, 232]))\n"
     ]
    }
   ],
   "source": [
    "print(np.unique(y, return_counts=True))"
   ]
  },
  {
   "cell_type": "code",
   "execution_count": 11,
   "metadata": {},
   "outputs": [],
   "source": [
    "# test BP for the data\n",
    "model = keras.Sequential(\n",
    "    [\n",
    "        keras.Input(shape=(5,)),\n",
    "        layers.Dense(5, activation='sigmoid'),\n",
    "        layers.Dense(5, activation='sigmoid'),\n",
    "        layers.Dense(1, activation='sigmoid')\n",
    "    ]\n",
    ")"
   ]
  },
  {
   "cell_type": "code",
   "execution_count": 14,
   "metadata": {},
   "outputs": [
    {
     "name": "stdout",
     "output_type": "stream",
     "text": [
      "Epoch 1/50\n",
      "16/16 [==============================] - 0s 1ms/step - loss: 0.2224 - accuracy: 0.9740\n",
      "Epoch 2/50\n",
      "16/16 [==============================] - 0s 2ms/step - loss: 0.2167 - accuracy: 0.9740\n",
      "Epoch 3/50\n",
      "16/16 [==============================] - 0s 2ms/step - loss: 0.2115 - accuracy: 0.9720\n",
      "Epoch 4/50\n",
      "16/16 [==============================] - 0s 2ms/step - loss: 0.2065 - accuracy: 0.9720\n",
      "Epoch 5/50\n",
      "16/16 [==============================] - 0s 2ms/step - loss: 0.2016 - accuracy: 0.9720\n",
      "Epoch 6/50\n",
      "16/16 [==============================] - 0s 2ms/step - loss: 0.1969 - accuracy: 0.9700\n",
      "Epoch 7/50\n",
      "16/16 [==============================] - 0s 2ms/step - loss: 0.1927 - accuracy: 0.9700\n",
      "Epoch 8/50\n",
      "16/16 [==============================] - 0s 2ms/step - loss: 0.1882 - accuracy: 0.9700\n",
      "Epoch 9/50\n",
      "16/16 [==============================] - 0s 2ms/step - loss: 0.1841 - accuracy: 0.9700\n",
      "Epoch 10/50\n",
      "16/16 [==============================] - 0s 2ms/step - loss: 0.1803 - accuracy: 0.9700\n",
      "Epoch 11/50\n",
      "16/16 [==============================] - 0s 2ms/step - loss: 0.1765 - accuracy: 0.9700\n",
      "Epoch 12/50\n",
      "16/16 [==============================] - 0s 2ms/step - loss: 0.1730 - accuracy: 0.9700\n",
      "Epoch 13/50\n",
      "16/16 [==============================] - 0s 2ms/step - loss: 0.1694 - accuracy: 0.9700\n",
      "Epoch 14/50\n",
      "16/16 [==============================] - 0s 2ms/step - loss: 0.1661 - accuracy: 0.9700\n",
      "Epoch 15/50\n",
      "16/16 [==============================] - 0s 2ms/step - loss: 0.1628 - accuracy: 0.9700\n",
      "Epoch 16/50\n",
      "16/16 [==============================] - 0s 1ms/step - loss: 0.1597 - accuracy: 0.9700\n",
      "Epoch 17/50\n",
      "16/16 [==============================] - 0s 2ms/step - loss: 0.1567 - accuracy: 0.9700\n",
      "Epoch 18/50\n",
      "16/16 [==============================] - 0s 2ms/step - loss: 0.1538 - accuracy: 0.9700\n",
      "Epoch 19/50\n",
      "16/16 [==============================] - 0s 2ms/step - loss: 0.1511 - accuracy: 0.9720\n",
      "Epoch 20/50\n",
      "16/16 [==============================] - 0s 2ms/step - loss: 0.1484 - accuracy: 0.9720\n",
      "Epoch 21/50\n",
      "16/16 [==============================] - 0s 3ms/step - loss: 0.1457 - accuracy: 0.9720\n",
      "Epoch 22/50\n",
      "16/16 [==============================] - 0s 3ms/step - loss: 0.1433 - accuracy: 0.9720\n",
      "Epoch 23/50\n",
      "16/16 [==============================] - 0s 2ms/step - loss: 0.1408 - accuracy: 0.9700\n",
      "Epoch 24/50\n",
      "16/16 [==============================] - 0s 2ms/step - loss: 0.1385 - accuracy: 0.9720\n",
      "Epoch 25/50\n",
      "16/16 [==============================] - 0s 2ms/step - loss: 0.1363 - accuracy: 0.9760\n",
      "Epoch 26/50\n",
      "16/16 [==============================] - 0s 2ms/step - loss: 0.1340 - accuracy: 0.9740\n",
      "Epoch 27/50\n",
      "16/16 [==============================] - 0s 2ms/step - loss: 0.1321 - accuracy: 0.9760\n",
      "Epoch 28/50\n",
      "16/16 [==============================] - 0s 2ms/step - loss: 0.1300 - accuracy: 0.9760\n",
      "Epoch 29/50\n",
      "16/16 [==============================] - 0s 2ms/step - loss: 0.1279 - accuracy: 0.9760\n",
      "Epoch 30/50\n",
      "16/16 [==============================] - 0s 1ms/step - loss: 0.1260 - accuracy: 0.9760\n",
      "Epoch 31/50\n",
      "16/16 [==============================] - 0s 2ms/step - loss: 0.1242 - accuracy: 0.9760\n",
      "Epoch 32/50\n",
      "16/16 [==============================] - 0s 1ms/step - loss: 0.1224 - accuracy: 0.9740\n",
      "Epoch 33/50\n",
      "16/16 [==============================] - 0s 2ms/step - loss: 0.1207 - accuracy: 0.9760\n",
      "Epoch 34/50\n",
      "16/16 [==============================] - 0s 2ms/step - loss: 0.1190 - accuracy: 0.9760\n",
      "Epoch 35/50\n",
      "16/16 [==============================] - 0s 2ms/step - loss: 0.1174 - accuracy: 0.9780\n",
      "Epoch 36/50\n",
      "16/16 [==============================] - 0s 2ms/step - loss: 0.1157 - accuracy: 0.9780\n",
      "Epoch 37/50\n",
      "16/16 [==============================] - 0s 2ms/step - loss: 0.1143 - accuracy: 0.9780\n",
      "Epoch 38/50\n",
      "16/16 [==============================] - 0s 2ms/step - loss: 0.1129 - accuracy: 0.9780\n",
      "Epoch 39/50\n",
      "16/16 [==============================] - 0s 2ms/step - loss: 0.1114 - accuracy: 0.9780\n",
      "Epoch 40/50\n",
      "16/16 [==============================] - 0s 2ms/step - loss: 0.1100 - accuracy: 0.9780\n",
      "Epoch 41/50\n",
      "16/16 [==============================] - 0s 2ms/step - loss: 0.1087 - accuracy: 0.9780\n",
      "Epoch 42/50\n",
      "16/16 [==============================] - 0s 2ms/step - loss: 0.1074 - accuracy: 0.9780\n",
      "Epoch 43/50\n",
      "16/16 [==============================] - 0s 2ms/step - loss: 0.1061 - accuracy: 0.9780\n",
      "Epoch 44/50\n",
      "16/16 [==============================] - 0s 2ms/step - loss: 0.1049 - accuracy: 0.9780\n",
      "Epoch 45/50\n",
      "16/16 [==============================] - 0s 2ms/step - loss: 0.1038 - accuracy: 0.9780\n",
      "Epoch 46/50\n",
      "16/16 [==============================] - 0s 2ms/step - loss: 0.1026 - accuracy: 0.9780\n",
      "Epoch 47/50\n",
      "16/16 [==============================] - 0s 2ms/step - loss: 0.1015 - accuracy: 0.9780\n",
      "Epoch 48/50\n",
      "16/16 [==============================] - 0s 1ms/step - loss: 0.1004 - accuracy: 0.9780\n",
      "Epoch 49/50\n",
      "16/16 [==============================] - 0s 2ms/step - loss: 0.0994 - accuracy: 0.9780\n",
      "Epoch 50/50\n",
      "16/16 [==============================] - 0s 2ms/step - loss: 0.0982 - accuracy: 0.9780\n"
     ]
    },
    {
     "data": {
      "text/plain": [
       "<tensorflow.python.keras.callbacks.History at 0x7f09177e32b0>"
      ]
     },
     "execution_count": 14,
     "metadata": {},
     "output_type": "execute_result"
    }
   ],
   "source": [
    "batch_size = 32\n",
    "epochs = 50\n",
    "\n",
    "#model.compile(loss=\"sparse_categorical_crossentropy\", optimizer=\"adam\", metrics=[\"accuracy\"])\n",
    "model.compile(loss=\"binary_crossentropy\", optimizer=\"adam\", metrics=[\"accuracy\"])\n",
    "model.fit(x_train, y_train, batch_size=batch_size, epochs=epochs)"
   ]
  },
  {
   "cell_type": "code",
   "execution_count": null,
   "metadata": {},
   "outputs": [],
   "source": []
  }
 ],
 "metadata": {
  "kernelspec": {
   "display_name": "Python 3",
   "language": "python",
   "name": "python3"
  },
  "language_info": {
   "codemirror_mode": {
    "name": "ipython",
    "version": 3
   },
   "file_extension": ".py",
   "mimetype": "text/x-python",
   "name": "python",
   "nbconvert_exporter": "python",
   "pygments_lexer": "ipython3",
   "version": "3.6.8"
  }
 },
 "nbformat": 4,
 "nbformat_minor": 2
}
