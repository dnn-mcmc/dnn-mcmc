{
 "cells": [
  {
   "cell_type": "code",
   "execution_count": 2,
   "metadata": {},
   "outputs": [],
   "source": [
    "import tensorflow as tf\n",
    "import tensorflow_probability as tfp\n",
    "import numpy as np\n",
    "import random\n",
    "import time\n",
    "from tensorflow import keras\n",
    "from tensorflow.keras import layers\n",
    "from tensorflow.keras import initializers\n",
    "from tensorflow.keras import Model\n",
    "from tensorflow.keras.layers import Flatten, Dense\n",
    "from sklearn.metrics import accuracy_score"
   ]
  },
  {
   "cell_type": "code",
   "execution_count": 3,
   "metadata": {},
   "outputs": [
    {
     "name": "stdout",
     "output_type": "stream",
     "text": [
      "There are 12665 training images.\n",
      "There are 2115 test images.\n"
     ]
    }
   ],
   "source": [
    "# Load MNIST\n",
    "(x_train, y_train), (x_test, y_test) = tf.keras.datasets.mnist.load_data()\n",
    "\n",
    "# Select binary data\n",
    "label_sub = [0,1]\n",
    "x_train_sub = np.array([x for x, y in zip(x_train, y_train) if y in label_sub])\n",
    "y_train_sub = np.array([y for y in y_train if y in label_sub])\n",
    "x_test_sub = np.array([x for x, y in zip(x_test, y_test) if y in label_sub])\n",
    "y_test_sub = np.array([y for y in y_test if y in label_sub])\n",
    "\n",
    "print('There are', len(x_train_sub), 'training images.')\n",
    "print('There are', len(x_test_sub), 'test images.')"
   ]
  },
  {
   "cell_type": "code",
   "execution_count": 4,
   "metadata": {},
   "outputs": [
    {
     "name": "stdout",
     "output_type": "stream",
     "text": [
      "x_train_sub shape: (12665, 28, 28, 1)\n",
      "Number of images in x_train_sub 12665\n",
      "Number of images in x_test_sub 2115\n"
     ]
    }
   ],
   "source": [
    "# Reshaping the array to 4-dims so that it can work with the Keras API\n",
    "x_train_sub = x_train_sub.reshape(x_train_sub.shape[0], 28, 28, 1)\n",
    "x_test_sub = x_test_sub.reshape(x_test_sub.shape[0], 28, 28, 1)\n",
    "input_shape = (28, 28, 1)\n",
    "\n",
    "# Making sure that the values are float so that we can get decimal points after division\n",
    "x_train_sub = x_train_sub.astype('float32')\n",
    "x_test_sub = x_test_sub.astype('float32')\n",
    "\n",
    "# Normalizing the RGB codes by dividing it to the max RGB value.\n",
    "x_train_sub /= 255\n",
    "x_test_sub /= 255\n",
    "print('x_train_sub shape:', x_train_sub.shape)\n",
    "print('Number of images in x_train_sub', x_train_sub.shape[0])\n",
    "print('Number of images in x_test_sub', x_test_sub.shape[0])"
   ]
  },
  {
   "cell_type": "code",
   "execution_count": 5,
   "metadata": {},
   "outputs": [],
   "source": [
    "x1_train = x_train_sub[0]\n",
    "y1_train = y_train_sub[0]"
   ]
  },
  {
   "cell_type": "code",
   "execution_count": 6,
   "metadata": {},
   "outputs": [
    {
     "data": {
      "text/plain": [
       "dtype('float32')"
      ]
     },
     "execution_count": 6,
     "metadata": {},
     "output_type": "execute_result"
    }
   ],
   "source": [
    "x1_train.dtype"
   ]
  },
  {
   "cell_type": "code",
   "execution_count": 7,
   "metadata": {},
   "outputs": [
    {
     "data": {
      "image/png": "[encoded data removed]",
      "text/plain": [
       "<Figure size 432x288 with 1 Axes>"
      ]
     },
     "metadata": {
      "needs_background": "light"
     },
     "output_type": "display_data"
    }
   ],
   "source": [
    "import matplotlib.pyplot as plt\n",
    "plt.gray()\n",
    "plt.imshow(x_train_sub[0])\n",
    "plt.show()"
   ]
  },
  {
   "cell_type": "code",
   "execution_count": 8,
   "metadata": {},
   "outputs": [],
   "source": [
    "# Importing the required Keras modules containing model and layers\n",
    "from tensorflow.keras.models import Sequential\n",
    "from tensorflow.keras.layers import Conv2D, Dropout, MaxPooling2D\n",
    "\n",
    "# Creating a Sequential Model and adding the layers\n",
    "model = Sequential()\n",
    "model.add(Conv2D(13, kernel_size=(3, 3), input_shape=input_shape))\n",
    "model.add(MaxPooling2D(pool_size=(2, 2)))\n",
    "model.add(Flatten()) # Flattening the 2D arrays for fully connected layers\n",
    "#model.add(Dense(128, activation=tf.nn.relu))\n",
    "model.add(Dropout(0.2))\n",
    "model.add(Dense(1, activation=tf.nn.sigmoid))"
   ]
  },
  {
   "cell_type": "code",
   "execution_count": 9,
   "metadata": {},
   "outputs": [
    {
     "data": {
      "text/plain": [
       "<tensorflow.python.keras.engine.sequential.Sequential at 0x7f826175b4e0>"
      ]
     },
     "execution_count": 9,
     "metadata": {},
     "output_type": "execute_result"
    }
   ],
   "source": [
    "model"
   ]
  },
  {
   "cell_type": "code",
   "execution_count": 47,
   "metadata": {},
   "outputs": [
    {
     "name": "stdout",
     "output_type": "stream",
     "text": [
      "Model: \"sequential_5\"\n",
      "_________________________________________________________________\n",
      "Layer (type)                 Output Shape              Param #   \n",
      "=================================================================\n",
      "conv2d_3 (Conv2D)            (None, 26, 26, 13)        130       \n",
      "_________________________________________________________________\n",
      "max_pooling2d_9 (MaxPooling2 (None, 13, 13, 13)        0         \n",
      "_________________________________________________________________\n",
      "flatten_3 (Flatten)          (None, 2197)              0         \n",
      "_________________________________________________________________\n",
      "dropout (Dropout)            (None, 2197)              0         \n",
      "_________________________________________________________________\n",
      "dense_3 (Dense)              (None, 1)                 2198      \n",
      "=================================================================\n",
      "Total params: 2,328\n",
      "Trainable params: 2,328\n",
      "Non-trainable params: 0\n",
      "_________________________________________________________________\n"
     ]
    }
   ],
   "source": [
    "model.summary()"
   ]
  },
  {
   "cell_type": "code",
   "execution_count": 49,
   "metadata": {},
   "outputs": [
    {
     "data": {
      "text/plain": [
       "[]"
      ]
     },
     "execution_count": 49,
     "metadata": {},
     "output_type": "execute_result"
    }
   ],
   "source": [
    "model.layers[3].get_weights()"
   ]
  },
  {
   "cell_type": "code",
   "execution_count": 50,
   "metadata": {},
   "outputs": [
    {
     "data": {
      "text/plain": [
       "[array([[[[ 0.29547507, -0.03793899,  0.21449059, -0.02227019,\n",
       "           -0.33222157,  0.3876881 ,  0.04995344,  0.08823525,\n",
       "            0.04563212,  0.30939862,  0.1682686 ,  0.14583394,\n",
       "           -0.21367808]],\n",
       " \n",
       "         [[ 0.30684936,  0.04267297,  0.17671663,  0.3396878 ,\n",
       "           -0.293504  , -0.37963453, -0.02186725,  0.06750137,\n",
       "           -0.10637009,  0.1046124 ,  0.38052422,  0.1965303 ,\n",
       "            0.15166456]],\n",
       " \n",
       "         [[-0.15268968,  0.25544745,  0.15459694,  0.19774199,\n",
       "           -0.19962211, -0.5423744 , -0.21673314,  0.3034085 ,\n",
       "            0.3346938 ,  0.01465779, -0.06639957, -0.12778385,\n",
       "            0.28827164]]],\n",
       " \n",
       " \n",
       "        [[[ 0.1308593 , -0.12237195,  0.23374473,  0.02235247,\n",
       "           -0.11218897, -0.04928025, -0.45183748,  0.2413221 ,\n",
       "            0.2916373 ,  0.18929727, -0.00189241,  0.14567128,\n",
       "           -0.30744004]],\n",
       " \n",
       "         [[-0.0515956 ,  0.03227449, -0.08604115,  0.2627085 ,\n",
       "           -0.09490064, -0.32713264, -0.40968823,  0.22556129,\n",
       "            0.22955196,  0.10629352,  0.21922183,  0.1631185 ,\n",
       "            0.2659817 ]],\n",
       " \n",
       "         [[ 0.06086741,  0.18833418,  0.061778  ,  0.19733846,\n",
       "           -0.07478412, -0.26918578, -0.00289476,  0.04026258,\n",
       "            0.2237276 ,  0.33442503,  0.16955216, -0.2822792 ,\n",
       "            0.1783652 ]]],\n",
       " \n",
       " \n",
       "        [[[ 0.2534475 ,  0.31065422,  0.293807  ,  0.02957138,\n",
       "           -0.2873421 , -0.29637992, -0.5946223 , -0.02468071,\n",
       "            0.25111392,  0.15394373,  0.21599814,  0.34660667,\n",
       "            0.10349204]],\n",
       " \n",
       "         [[ 0.06319319,  0.34977406,  0.22171858,  0.29708803,\n",
       "           -0.4389108 , -0.4698773 , -0.3136326 ,  0.25395533,\n",
       "            0.06171161,  0.22303665,  0.39829695,  0.29435542,\n",
       "            0.27727467]],\n",
       " \n",
       "         [[ 0.30116287,  0.20230262, -0.20450345,  0.18988848,\n",
       "           -0.07328739, -0.061871  , -0.10038991, -0.01783932,\n",
       "            0.03538178, -0.01138874,  0.24209689, -0.24700983,\n",
       "            0.20196365]]]], dtype=float32),\n",
       " array([-0.09598861, -0.10299934, -0.08766104, -0.09586757,  0.0976942 ,\n",
       "        -0.06818535,  0.09887106, -0.10565671, -0.09610282,  0.04902471,\n",
       "        -0.10852903, -0.09985969, -0.09144222], dtype=float32),\n",
       " array([[-0.09961022],\n",
       "        [-0.14852747],\n",
       "        [-0.12296744],\n",
       "        ...,\n",
       "        [-0.0561936 ],\n",
       "        [-0.07917377],\n",
       "        [-0.10680635]], dtype=float32),\n",
       " array([0.05864675], dtype=float32)]"
      ]
     },
     "execution_count": 50,
     "metadata": {},
     "output_type": "execute_result"
    }
   ],
   "source": [
    "model.get_weights()"
   ]
  },
  {
   "cell_type": "code",
   "execution_count": 46,
   "metadata": {},
   "outputs": [
    {
     "name": "stdout",
     "output_type": "stream",
     "text": [
      "Epoch 1/10\n",
      "396/396 [==============================] - 2s 4ms/step - loss: 0.1277 - accuracy: 0.9672\n",
      "Epoch 2/10\n",
      "396/396 [==============================] - 1s 4ms/step - loss: 0.0057 - accuracy: 0.9981\n",
      "Epoch 3/10\n",
      "396/396 [==============================] - 1s 4ms/step - loss: 0.0033 - accuracy: 0.9989\n",
      "Epoch 4/10\n",
      "396/396 [==============================] - 2s 4ms/step - loss: 0.0024 - accuracy: 0.9993\n",
      "Epoch 5/10\n",
      "396/396 [==============================] - 2s 4ms/step - loss: 0.0026 - accuracy: 0.9993\n",
      "Epoch 6/10\n",
      "396/396 [==============================] - 2s 4ms/step - loss: 0.0032 - accuracy: 0.9994\n",
      "Epoch 7/10\n",
      "396/396 [==============================] - 2s 4ms/step - loss: 0.0039 - accuracy: 0.9989\n",
      "Epoch 8/10\n",
      "396/396 [==============================] - 2s 4ms/step - loss: 0.0012 - accuracy: 0.9998\n",
      "Epoch 9/10\n",
      "396/396 [==============================] - 1s 4ms/step - loss: 0.0015 - accuracy: 0.9996\n",
      "Epoch 10/10\n",
      "396/396 [==============================] - 1s 4ms/step - loss: 9.4781e-04 - accuracy: 0.9998\n"
     ]
    },
    {
     "data": {
      "text/plain": [
       "<tensorflow.python.keras.callbacks.History at 0x7f94c827b668>"
      ]
     },
     "execution_count": 46,
     "metadata": {},
     "output_type": "execute_result"
    }
   ],
   "source": [
    "# run the model\n",
    "model.compile(optimizer='adam', \n",
    "              loss='binary_crossentropy', \n",
    "              metrics=['accuracy'])\n",
    "model.fit(x=x_train_sub,y=y_train_sub, epochs=10)"
   ]
  },
  {
   "cell_type": "code",
   "execution_count": 44,
   "metadata": {},
   "outputs": [
    {
     "data": {
      "text/plain": [
       "[array([[[[-0.24239725, -0.18535593, -0.30338585,  0.26653937,\n",
       "           -0.00090095,  0.13377447, -0.40447456, -0.1284313 ,\n",
       "            0.01487069,  0.40620062,  0.39069024,  0.21515928,\n",
       "           -0.05032874]],\n",
       " \n",
       "         [[-0.29156578, -0.2211209 , -0.24995701, -0.1830898 ,\n",
       "            0.35916808,  0.32988584, -0.1464074 , -0.06396119,\n",
       "            0.17615487, -0.18516727,  0.27140877,  0.40711674,\n",
       "           -0.28476223]],\n",
       " \n",
       "         [[-0.14335245, -0.08078393, -0.29124567, -0.3278417 ,\n",
       "            0.2172545 , -0.00471927, -0.3049349 , -0.29271346,\n",
       "            0.27333924, -0.40664345,  0.21132228,  0.29683813,\n",
       "           -0.30278954]]],\n",
       " \n",
       " \n",
       "        [[[-0.27964434, -0.19398496, -0.13423856, -0.09529804,\n",
       "            0.07223766,  0.22241455, -0.06305213, -0.00288964,\n",
       "           -0.19421245,  0.083341  ,  0.39383152,  0.05534967,\n",
       "           -0.34467122]],\n",
       " \n",
       "         [[-0.3248419 , -0.13749045, -0.37709838, -0.15248263,\n",
       "            0.08706544,  0.28303885, -0.15761197, -0.16006711,\n",
       "           -0.01837415, -0.15762545,  0.34993714,  0.37798277,\n",
       "           -0.30520532]],\n",
       " \n",
       "         [[-0.31222844, -0.26156688, -0.3168053 , -0.13783167,\n",
       "            0.1684649 ,  0.23639815,  0.10579166, -0.23404033,\n",
       "            0.08894109, -0.18772295,  0.1342825 ,  0.28309268,\n",
       "           -0.07375976]]],\n",
       " \n",
       " \n",
       "        [[[-0.1572715 , -0.37492764, -0.23854795, -0.18247524,\n",
       "            0.28266403,  0.07823008, -0.3751015 ,  0.09626218,\n",
       "           -0.3273361 ,  0.29475975, -0.00631444,  0.08340552,\n",
       "           -0.29542065]],\n",
       " \n",
       "         [[-0.03857444, -0.31080377, -0.36421552, -0.28249857,\n",
       "            0.24605525,  0.1105212 , -0.20126204,  0.13626066,\n",
       "           -0.02126117, -0.11084194, -0.04838385,  0.05492658,\n",
       "           -0.3556976 ]],\n",
       " \n",
       "         [[-0.17294435, -0.0759212 , -0.05323054, -0.20249663,\n",
       "            0.1135608 ,  0.32452586,  0.20938325, -0.32811186,\n",
       "            0.34168205, -0.41357076, -0.09116396, -0.11458602,\n",
       "            0.00177332]]]], dtype=float32),\n",
       " array([-0.06369385,  0.09289227,  0.05619471,  0.08917645, -0.08966503,\n",
       "         0.04452232,  0.08652062,  0.09057721, -0.08451286,  0.07381529,\n",
       "         0.05189824,  0.0463249 ,  0.09370422], dtype=float32)]"
      ]
     },
     "execution_count": 44,
     "metadata": {},
     "output_type": "execute_result"
    }
   ],
   "source": [
    "model.layers[0].get_weights()"
   ]
  },
  {
   "cell_type": "code",
   "execution_count": 39,
   "metadata": {},
   "outputs": [
    {
     "data": {
      "text/plain": [
       "[array([[[[-0.24239725, -0.18535593, -0.30338585,  0.26653937,\n",
       "           -0.00090095,  0.13377447, -0.40447456, -0.1284313 ,\n",
       "            0.01487069,  0.40620062,  0.39069024,  0.21515928,\n",
       "           -0.05032874]],\n",
       " \n",
       "         [[-0.29156578, -0.2211209 , -0.24995701, -0.1830898 ,\n",
       "            0.35916808,  0.32988584, -0.1464074 , -0.06396119,\n",
       "            0.17615487, -0.18516727,  0.27140877,  0.40711674,\n",
       "           -0.28476223]],\n",
       " \n",
       "         [[-0.14335245, -0.08078393, -0.29124567, -0.3278417 ,\n",
       "            0.2172545 , -0.00471927, -0.3049349 , -0.29271346,\n",
       "            0.27333924, -0.40664345,  0.21132228,  0.29683813,\n",
       "           -0.30278954]]],\n",
       " \n",
       " \n",
       "        [[[-0.27964434, -0.19398496, -0.13423856, -0.09529804,\n",
       "            0.07223766,  0.22241455, -0.06305213, -0.00288964,\n",
       "           -0.19421245,  0.083341  ,  0.39383152,  0.05534967,\n",
       "           -0.34467122]],\n",
       " \n",
       "         [[-0.3248419 , -0.13749045, -0.37709838, -0.15248263,\n",
       "            0.08706544,  0.28303885, -0.15761197, -0.16006711,\n",
       "           -0.01837415, -0.15762545,  0.34993714,  0.37798277,\n",
       "           -0.30520532]],\n",
       " \n",
       "         [[-0.31222844, -0.26156688, -0.3168053 , -0.13783167,\n",
       "            0.1684649 ,  0.23639815,  0.10579166, -0.23404033,\n",
       "            0.08894109, -0.18772295,  0.1342825 ,  0.28309268,\n",
       "           -0.07375976]]],\n",
       " \n",
       " \n",
       "        [[[-0.1572715 , -0.37492764, -0.23854795, -0.18247524,\n",
       "            0.28266403,  0.07823008, -0.3751015 ,  0.09626218,\n",
       "           -0.3273361 ,  0.29475975, -0.00631444,  0.08340552,\n",
       "           -0.29542065]],\n",
       " \n",
       "         [[-0.03857444, -0.31080377, -0.36421552, -0.28249857,\n",
       "            0.24605525,  0.1105212 , -0.20126204,  0.13626066,\n",
       "           -0.02126117, -0.11084194, -0.04838385,  0.05492658,\n",
       "           -0.3556976 ]],\n",
       " \n",
       "         [[-0.17294435, -0.0759212 , -0.05323054, -0.20249663,\n",
       "            0.1135608 ,  0.32452586,  0.20938325, -0.32811186,\n",
       "            0.34168205, -0.41357076, -0.09116396, -0.11458602,\n",
       "            0.00177332]]]], dtype=float32),\n",
       " array([-0.06369385,  0.09289227,  0.05619471,  0.08917645, -0.08966503,\n",
       "         0.04452232,  0.08652062,  0.09057721, -0.08451286,  0.07381529,\n",
       "         0.05189824,  0.0463249 ,  0.09370422], dtype=float32),\n",
       " array([[-0.0638014 ],\n",
       "        [ 0.09579672],\n",
       "        [ 0.02800526],\n",
       "        ...,\n",
       "        [ 0.10284543],\n",
       "        [ 0.06995864],\n",
       "        [ 0.11231074]], dtype=float32),\n",
       " array([0.0566125], dtype=float32)]"
      ]
     },
     "execution_count": 39,
     "metadata": {},
     "output_type": "execute_result"
    }
   ],
   "source": [
    "model.get_weights()"
   ]
  },
  {
   "cell_type": "code",
   "execution_count": 53,
   "metadata": {},
   "outputs": [
    {
     "data": {
      "text/plain": [
       "[array([[[[-0.10387897, -0.13963866, -0.15653174,  0.01839969,\n",
       "            0.01014172, -0.17537948, -0.15781988, -0.18897726,\n",
       "            0.07095338, -0.09149274, -0.02019742,  0.20146014,\n",
       "           -0.1767905 ]],\n",
       " \n",
       "         [[ 0.21624626, -0.17676023,  0.21711092, -0.06476367,\n",
       "            0.06040759,  0.09896444, -0.05444537,  0.05987091,\n",
       "           -0.07484987,  0.13026051,  0.05561249, -0.03861058,\n",
       "            0.04306172]],\n",
       " \n",
       "         [[-0.11214229, -0.00214483,  0.0924191 , -0.1848209 ,\n",
       "           -0.09868821,  0.18450974, -0.03816631, -0.00540927,\n",
       "           -0.02095151, -0.00753208,  0.1062157 ,  0.13230534,\n",
       "           -0.02812268]]],\n",
       " \n",
       " \n",
       "        [[[-0.21193394,  0.03337015, -0.06724833, -0.0522825 ,\n",
       "           -0.05943078,  0.21777119, -0.20010723,  0.11642553,\n",
       "            0.06787769, -0.1169533 , -0.0981438 , -0.1533753 ,\n",
       "           -0.16884387]],\n",
       " \n",
       "         [[-0.05496794, -0.11883533, -0.01243648, -0.20971905,\n",
       "            0.14812566,  0.09455724,  0.01152252, -0.15388387,\n",
       "           -0.12549512, -0.00168912, -0.00354259,  0.02410676,\n",
       "            0.1318403 ]],\n",
       " \n",
       "         [[ 0.12223233, -0.10907846, -0.11759073, -0.03988473,\n",
       "            0.11786638,  0.20304932, -0.13427007, -0.04045178,\n",
       "            0.04066743, -0.14820677,  0.20845045,  0.04381423,\n",
       "            0.20478384]]],\n",
       " \n",
       " \n",
       "        [[[ 0.19149996, -0.15201448,  0.10831355,  0.14712752,\n",
       "            0.0885791 , -0.03712428, -0.01122008,  0.13323875,\n",
       "           -0.04259904,  0.17658095,  0.07112779,  0.15417694,\n",
       "           -0.0210294 ]],\n",
       " \n",
       "         [[-0.07016878, -0.10096633, -0.14885512, -0.05932386,\n",
       "            0.1700878 , -0.14310825,  0.07612444, -0.10864117,\n",
       "            0.15279426,  0.05546121,  0.1693372 ,  0.13235287,\n",
       "           -0.01913977]],\n",
       " \n",
       "         [[-0.16493346, -0.20406385,  0.15337966, -0.19767298,\n",
       "            0.16735174,  0.07212444,  0.17570807, -0.05825444,\n",
       "            0.17323284,  0.02415811, -0.16103017,  0.18616767,\n",
       "           -0.04273427]]]], dtype=float32),\n",
       " array([0., 0., 0., 0., 0., 0., 0., 0., 0., 0., 0., 0., 0.], dtype=float32)]"
      ]
     },
     "execution_count": 53,
     "metadata": {},
     "output_type": "execute_result"
    }
   ],
   "source": [
    "model.layers[0].get_weights()"
   ]
  },
  {
   "cell_type": "code",
   "execution_count": 11,
   "metadata": {},
   "outputs": [
    {
     "name": "stdout",
     "output_type": "stream",
     "text": [
      "67/67 [==============================] - 0s 2ms/step - loss: 0.0021 - accuracy: 0.9995\n"
     ]
    },
    {
     "data": {
      "text/plain": [
       "[0.0020562608260661364, 0.9995272159576416]"
      ]
     },
     "execution_count": 11,
     "metadata": {},
     "output_type": "execute_result"
    }
   ],
   "source": [
    "model.evaluate(x_test_sub, y_test_sub)"
   ]
  }
 ],
 "metadata": {
  "kernelspec": {
   "display_name": "Python 3",
   "language": "python",
   "name": "python3"
  },
  "language_info": {
   "codemirror_mode": {
    "name": "ipython",
    "version": 3
   },
   "file_extension": ".py",
   "mimetype": "text/x-python",
   "name": "python",
   "nbconvert_exporter": "python",
   "pygments_lexer": "ipython3",
   "version": "3.6.10"
  }
 },
 "nbformat": 4,
 "nbformat_minor": 4
}
